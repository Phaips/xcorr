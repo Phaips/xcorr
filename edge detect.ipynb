{
 "cells": [
  {
   "cell_type": "code",
   "execution_count": 120,
   "metadata": {},
   "outputs": [
    {
     "name": "stdout",
     "output_type": "stream",
     "text": [
      "The autoreload extension is already loaded. To reload it, use:\n",
      "  %reload_ext autoreload\n"
     ]
    }
   ],
   "source": [
    "%load_ext autoreload\n",
    "%autoreload 2\n",
    "import numpy as np\n",
    "import matplotlib.pyplot as plt\n",
    "import matplotlib.image as mpimg\n",
    "import fibsem\n",
    "from fibsem.imaging import masks\n",
    "from fibsem.imaging import utils   \n",
    "from autoscript_sdb_microscope_client.structures import AdornedImage\n",
    "from PIL import Image\n",
    "import logging\n",
    "import matplotlib.pyplot as plt\n",
    "from scipy import ndimage as ndi\n",
    "from skimage.segmentation import watershed\n",
    "from skimage.feature import peak_local_max\n",
    "from skimage import data\n",
    "from skimage import filters\n",
    "from skimage.color import rgb2gray\n",
    "import imageio\n",
    "import cv2\n",
    "import glob\n",
    "import itertools\n",
    "import pandas as pd\n",
    "from pprint import pprint\n",
    "import plotly.express as px\n",
    "import scipy\n",
    "import statsmodels\n",
    "import ipywidgets\n",
    "from dataclasses import dataclass\n"
   ]
  },
  {
   "cell_type": "code",
   "execution_count": 88,
   "metadata": {},
   "outputs": [],
   "source": [
    "def xcorr(\n",
    "    img1: np.ndarray, \n",
    "    img2: np.ndarray, \n",
    "    use_mask: bool = True, \n",
    "    use_threshold: bool = True) -> np.ndarray:\n",
    "\n",
    "    if img1.data.shape != img2.data.shape:\n",
    "        err = f\"Image 1 {img1.data.shape} and Image 2 {img2.data.shape} need to have the same shape\"\n",
    "        logging.error(err)\n",
    "        raise ValueError(err)\n",
    "\n",
    "    if use_mask:\n",
    "        # Create Fourier Transform WITH Bandpass Filter\n",
    "        pixelsize_img1 = img1.data.shape\n",
    "        pixelsize_img2 = img2.data.shape\n",
    "        img1_mask = masks.create_bandpass_mask(pixelsize_img1, 100, 4, 3)\n",
    "        img2_mask = masks.create_bandpass_mask(pixelsize_img2, 100, 4, 3)\n",
    "        img1fft = np.fft.ifftshift(img1_mask * np.fft.fftshift(np.fft.fft2(img1.data)))\n",
    "        img2fft = np.fft.ifftshift(img2_mask * np.fft.fftshift(np.fft.fft2(img2.data)))\n",
    "        assert img1_mask is not None, \"Mask1 can not be None when using a Mask\"\n",
    "        assert img2_mask is not None, \"Mask2 can not be None when using a Mask\"\n",
    "\n",
    "    else:\n",
    "        # Create Fourier Transform\n",
    "        img1fft = np.fft.ifftshift(np.fft.fftshift(np.fft.fft2(img1.data)))\n",
    "        img2fft = np.fft.ifftshift(np.fft.fftshift(np.fft.fft2(img2.data)))\n",
    "\n",
    "    # Do some shady normalization(?)\n",
    "    n_pixels1 = img1.data.shape[0] * img1.data.shape[1]\n",
    "    img1fft[0, 0] = 0\n",
    "    tmp = img1fft * np. conj(img1fft)\n",
    "    img1fft = n_pixels1 * img1fft / np.sqrt(tmp.sum())\n",
    "    \n",
    "\n",
    "    n_pixels2 = img2.data.shape[0] * img2.data.shape[1]\n",
    "    img2fft[0, 0] = 0\n",
    "    tmp = img2fft * np. conj(img2fft)\n",
    "    img2fft = n_pixels2 * img2fft / np.sqrt(tmp.sum())\n",
    "\n",
    "\n",
    "    if use_threshold:\n",
    "        #Create threshold (Otsu's method) in abs Space\n",
    "        abs1 = np.fft.fftshift(np.fft.ifftshift(np.fft.ifft2(img1fft)))\n",
    "        abs2 = np.fft.fftshift(np.fft.ifftshift(np.fft.ifft2(img2fft)))\n",
    "        otsu1 = filters.threshold_otsu(np.abs(abs1))\n",
    "        otsu2 = filters.threshold_otsu(np.abs(abs2))\n",
    "\n",
    "         #Create segmented binary Img\n",
    "        binary1 = (abs1 > otsu1)*1\n",
    "        binary2 = (abs2 > otsu2)*1\n",
    "        \n",
    "        #Back to Fourier Space for cross-correlation\n",
    "        fft1 = np.fft.ifftshift(np.fft.fftshift(np.fft.fft2(binary1)))\n",
    "        fft2 = np.fft.ifftshift(np.fft.fftshift(np.fft.fft2(binary2)))\n",
    "\n",
    "        # Cross-correlate the two images\n",
    "        corr = np.real(np.fft.fftshift(np.fft.ifft2(fft1 * np.conj(fft2))))\n",
    "\n",
    "        #Cross-correlation center and shift from center\n",
    "        maxX, maxY = np.unravel_index(np.argmax(corr), corr.shape)\n",
    "        cen = np.asarray(corr.shape) / 2\n",
    "        err = np.array(cen - [maxX, maxY], int)\n",
    "        valMax = np.amax(corr)\n",
    "        return corr, valMax, cen, err,\n",
    "\n",
    "    else:\n",
    "        # Cross-correlate the two images\n",
    "        corr = np.real(np.fft.fftshift(np.fft.ifft2(img1fft * np.conj(img2fft))))\n",
    "       \n",
    "        #Cross-correlation center and shift from center\n",
    "        maxX, maxY = np.unravel_index(np.argmax(corr), corr.shape)\n",
    "        cen = np.asarray(corr.shape) / 2\n",
    "        err = np.array(cen - [maxX, maxY], int)\n",
    "        valMax = np.amax(corr)\n",
    "        return corr, valMax, cen, err"
   ]
  },
  {
   "cell_type": "code",
   "execution_count": 179,
   "metadata": {},
   "outputs": [
    {
     "data": {
      "text/plain": [
       "2"
      ]
     },
     "execution_count": 179,
     "metadata": {},
     "output_type": "execute_result"
    }
   ],
   "source": [
    "neg = []\n",
    "t = glob.glob(\"../xcorrtest/negative test/*.tif\")\n",
    "for j in t:\n",
    "    read = mpimg.imread(j)\n",
    "    read = AdornedImage(read, None)\n",
    "    neg.append(read)\n",
    "negate = np.array(neg)\n",
    "\n",
    "data1 = []\n",
    "files = glob.glob(\"../xcorrtest/*.tif\")\n",
    "for file in files:\n",
    "    img = mpimg.imread(file)\n",
    "    img = AdornedImage(img, None)\n",
    "    data1.append(img)\n",
    "arr = np.array(data1)\n",
    "\n",
    "\n"
   ]
  },
  {
   "cell_type": "code",
   "execution_count": 91,
   "metadata": {},
   "outputs": [],
   "source": [
    "edge_dict = []\n",
    "for i in range(40):\n",
    "    farid = filters.farid(arr[i].data)\n",
    "    # prewitt = filters.prewitt(arr[i])\n",
    "    # roberts= filters.roberts(arr[i])\n",
    "    # scharr = filters.scharr(arr[i])\n",
    "    # sobel= filters.sobel(arr[i])\n",
    "    otsu = filters.threshold_otsu(arr[i].data)\n",
    "    thresh  = filters.threshold_otsu(arr[i].data)\n",
    "    binary = (arr[i].data > thresh)*1\n",
    "    negative = 1 - binary\n",
    "    edge_data = {\n",
    "        \"farid\":farid,\n",
    "        # \"prewitt\":prewitt,\n",
    "        # \"roberts\":roberts,\n",
    "        # \"scharr\":scharr,\n",
    "        # \"c\":sobel,\n",
    "        \"binary\":binary,\n",
    "        \"negative\":negative\n",
    "    }\n",
    "    edge_dict.append(edge_data)\n",
    "    \n",
    "df_edge = pd.DataFrame.from_dict(edge_dict)\n"
   ]
  },
  {
   "cell_type": "code",
   "execution_count": 111,
   "metadata": {},
   "outputs": [],
   "source": [
    "data2 = []\n",
    "for column in df_edge.columns:\n",
    "    for i in range(40):\n",
    "        edge = df_edge[column].iloc[i]\n",
    "        data2.append(edge)\n",
    "\n",
    "edges = np.array(data2)"
   ]
  },
  {
   "cell_type": "code",
   "execution_count": 112,
   "metadata": {},
   "outputs": [],
   "source": [
    "all = np.array(data2)\n",
    "all1 = all[0:120:2]\n",
    "all2 = all[1:120:2]"
   ]
  },
  {
   "cell_type": "code",
   "execution_count": 80,
   "metadata": {},
   "outputs": [],
   "source": [
    "dict_list1 = []\n",
    "\n",
    "for i in range(int(60)):\n",
    "    for use_mask in [True, False]:\n",
    "        # for use_threshold in [True, False]:\n",
    "        corr1, maxVal1, cen1, err1 = xcorr(all1[i], all2[i], use_mask, use_threshold=False)\n",
    "        data_dict1 = {\n",
    "        \"n\":i, \n",
    "        \"use_mask\":use_mask, \n",
    "        # \"use_threshold\":use_threshold,\n",
    "        \"corr1\":corr1, \n",
    "        \"maxVal1\":maxVal1, \n",
    "        \"cen1\":cen1, \n",
    "        \"err1_x\":err1[0], \n",
    "        \"err1_y\":err1[1]}\n",
    "        dict_list1.append(data_dict1)\n",
    "\n",
    "df1 = pd.DataFrame.from_dict(dict_list1)"
   ]
  },
  {
   "cell_type": "code",
   "execution_count": 121,
   "metadata": {},
   "outputs": [],
   "source": [
    "@dataclass\n",
    "class Point:\n",
    "    x: float = 0.0\n",
    "    y: float = 0.0\n",
    "def stretch(img, tilt_degrees):\n",
    "    tilt = np.deg2rad(tilt_degrees)\n",
    "    shape = int(img.shape[0] / np.cos(tilt)), int(img.shape[1] / np.cos(tilt))\n",
    "    resized_img = np.asarray(Image.fromarray(img).resize(size=(shape[1], shape[0])))\n",
    "    c = Point(resized_img.shape[1]//2, resized_img.shape[0]//2)\n",
    "    dy, dx = img.shape[0]//2, img.shape[1]//2\n",
    "    scaled_img = resized_img[c.y-dy:c.y+dy, c.x-dx:c.x+dx]\n",
    "    return scaled_img"
   ]
  },
  {
   "cell_type": "code",
   "execution_count": 122,
   "metadata": {},
   "outputs": [],
   "source": [
    "tilter = []\n",
    "for i in range(60):\n",
    "    # if not isinstance(all2[i], AdornedImage):\n",
    "    #     img = AdornedImage(data = all2[i])\n",
    "    # else:\n",
    "    #     img = all2[i]\n",
    "    cos = stretch(all2[i], 25)\n",
    "    tilter.append(cos)\n",
    "\n",
    "tilted = np.array(tilter)"
   ]
  },
  {
   "cell_type": "code",
   "execution_count": 127,
   "metadata": {},
   "outputs": [],
   "source": [
    "dict_list2 = []\n",
    "\n",
    "for i in range(int(60)):\n",
    "    for use_mask in [True, False]:\n",
    "        # for use_threshold in [True, False]:\n",
    "        corr2, maxVal2, cen2, err2 = xcorr(all1[i], tilted[i], use_mask, use_threshold=False)\n",
    "        data_dict2 = {\n",
    "        \"n\":i, \n",
    "        \"use_mask\":use_mask, \n",
    "        # \"use_threshold\":use_threshold,\n",
    "        \"corr2\":corr2, \n",
    "        \"maxVal2\":maxVal2, \n",
    "        \"cen2\":cen2, \n",
    "        \"err2_x\":err2[0], \n",
    "        \"err2_y\":err2[1]}\n",
    "        dict_list2.append(data_dict2)\n",
    "\n",
    "df2 = pd.DataFrame.from_dict(dict_list2)"
   ]
  },
  {
   "cell_type": "code",
   "execution_count": 138,
   "metadata": {},
   "outputs": [
    {
     "data": {
      "text/html": [
       "<div>\n",
       "<style scoped>\n",
       "    .dataframe tbody tr th:only-of-type {\n",
       "        vertical-align: middle;\n",
       "    }\n",
       "\n",
       "    .dataframe tbody tr th {\n",
       "        vertical-align: top;\n",
       "    }\n",
       "\n",
       "    .dataframe thead th {\n",
       "        text-align: right;\n",
       "    }\n",
       "</style>\n",
       "<table border=\"1\" class=\"dataframe\">\n",
       "  <thead>\n",
       "    <tr style=\"text-align: right;\">\n",
       "      <th></th>\n",
       "      <th>n</th>\n",
       "      <th>use_mask</th>\n",
       "      <th>use_threshold</th>\n",
       "      <th>corr1</th>\n",
       "      <th>maxVal1</th>\n",
       "      <th>cen1</th>\n",
       "      <th>err1_x</th>\n",
       "      <th>err1_y</th>\n",
       "    </tr>\n",
       "  </thead>\n",
       "  <tbody>\n",
       "    <tr>\n",
       "      <th>0</th>\n",
       "      <td>0</td>\n",
       "      <td>True</td>\n",
       "      <td>True</td>\n",
       "      <td>[[-16354.540464899614, -15102.246394878934, -1...</td>\n",
       "      <td>52726.858672</td>\n",
       "      <td>[512.0, 768.0]</td>\n",
       "      <td>6</td>\n",
       "      <td>592</td>\n",
       "    </tr>\n",
       "    <tr>\n",
       "      <th>1</th>\n",
       "      <td>0</td>\n",
       "      <td>False</td>\n",
       "      <td>True</td>\n",
       "      <td>[[10056.53937915373, 9917.735819654947, 9798.5...</td>\n",
       "      <td>42384.723059</td>\n",
       "      <td>[512.0, 768.0]</td>\n",
       "      <td>-192</td>\n",
       "      <td>655</td>\n",
       "    </tr>\n",
       "    <tr>\n",
       "      <th>2</th>\n",
       "      <td>1</td>\n",
       "      <td>True</td>\n",
       "      <td>True</td>\n",
       "      <td>[[4416.2340234193425, 3248.5174086442635, 2377...</td>\n",
       "      <td>51220.078804</td>\n",
       "      <td>[512.0, 768.0]</td>\n",
       "      <td>-36</td>\n",
       "      <td>-667</td>\n",
       "    </tr>\n",
       "    <tr>\n",
       "      <th>3</th>\n",
       "      <td>1</td>\n",
       "      <td>False</td>\n",
       "      <td>True</td>\n",
       "      <td>[[-815.9080429991113, -1357.3198617369253, -84...</td>\n",
       "      <td>42793.814827</td>\n",
       "      <td>[512.0, 768.0]</td>\n",
       "      <td>-203</td>\n",
       "      <td>640</td>\n",
       "    </tr>\n",
       "    <tr>\n",
       "      <th>4</th>\n",
       "      <td>2</td>\n",
       "      <td>True</td>\n",
       "      <td>True</td>\n",
       "      <td>[[-4770.061568801761, -5855.682515494284, -634...</td>\n",
       "      <td>61527.496068</td>\n",
       "      <td>[512.0, 768.0]</td>\n",
       "      <td>-130</td>\n",
       "      <td>-53</td>\n",
       "    </tr>\n",
       "    <tr>\n",
       "      <th>...</th>\n",
       "      <td>...</td>\n",
       "      <td>...</td>\n",
       "      <td>...</td>\n",
       "      <td>...</td>\n",
       "      <td>...</td>\n",
       "      <td>...</td>\n",
       "      <td>...</td>\n",
       "      <td>...</td>\n",
       "    </tr>\n",
       "    <tr>\n",
       "      <th>115</th>\n",
       "      <td>57</td>\n",
       "      <td>False</td>\n",
       "      <td>True</td>\n",
       "      <td>[[66800.38032214163, 68500.92526381004, 66336....</td>\n",
       "      <td>105604.815250</td>\n",
       "      <td>[512.0, 768.0]</td>\n",
       "      <td>472</td>\n",
       "      <td>605</td>\n",
       "    </tr>\n",
       "    <tr>\n",
       "      <th>116</th>\n",
       "      <td>58</td>\n",
       "      <td>True</td>\n",
       "      <td>True</td>\n",
       "      <td>[[-23051.701457868014, -23441.403577984885, -2...</td>\n",
       "      <td>134109.654475</td>\n",
       "      <td>[512.0, 768.0]</td>\n",
       "      <td>-5</td>\n",
       "      <td>-7</td>\n",
       "    </tr>\n",
       "    <tr>\n",
       "      <th>117</th>\n",
       "      <td>58</td>\n",
       "      <td>False</td>\n",
       "      <td>True</td>\n",
       "      <td>[[-883.1189237424005, -153.03932015460305, -21...</td>\n",
       "      <td>113835.653073</td>\n",
       "      <td>[512.0, 768.0]</td>\n",
       "      <td>-34</td>\n",
       "      <td>-7</td>\n",
       "    </tr>\n",
       "    <tr>\n",
       "      <th>118</th>\n",
       "      <td>59</td>\n",
       "      <td>True</td>\n",
       "      <td>True</td>\n",
       "      <td>[[-18472.873652688606, -16459.767056782857, -1...</td>\n",
       "      <td>67694.201219</td>\n",
       "      <td>[512.0, 768.0]</td>\n",
       "      <td>-219</td>\n",
       "      <td>-560</td>\n",
       "    </tr>\n",
       "    <tr>\n",
       "      <th>119</th>\n",
       "      <td>59</td>\n",
       "      <td>False</td>\n",
       "      <td>True</td>\n",
       "      <td>[[-5595.715288176649, -4382.065331471811, -411...</td>\n",
       "      <td>87471.421698</td>\n",
       "      <td>[512.0, 768.0]</td>\n",
       "      <td>138</td>\n",
       "      <td>540</td>\n",
       "    </tr>\n",
       "  </tbody>\n",
       "</table>\n",
       "<p>120 rows × 8 columns</p>\n",
       "</div>"
      ],
      "text/plain": [
       "      n  use_mask  use_threshold  \\\n",
       "0     0      True           True   \n",
       "1     0     False           True   \n",
       "2     1      True           True   \n",
       "3     1     False           True   \n",
       "4     2      True           True   \n",
       "..   ..       ...            ...   \n",
       "115  57     False           True   \n",
       "116  58      True           True   \n",
       "117  58     False           True   \n",
       "118  59      True           True   \n",
       "119  59     False           True   \n",
       "\n",
       "                                                 corr1        maxVal1  \\\n",
       "0    [[-16354.540464899614, -15102.246394878934, -1...   52726.858672   \n",
       "1    [[10056.53937915373, 9917.735819654947, 9798.5...   42384.723059   \n",
       "2    [[4416.2340234193425, 3248.5174086442635, 2377...   51220.078804   \n",
       "3    [[-815.9080429991113, -1357.3198617369253, -84...   42793.814827   \n",
       "4    [[-4770.061568801761, -5855.682515494284, -634...   61527.496068   \n",
       "..                                                 ...            ...   \n",
       "115  [[66800.38032214163, 68500.92526381004, 66336....  105604.815250   \n",
       "116  [[-23051.701457868014, -23441.403577984885, -2...  134109.654475   \n",
       "117  [[-883.1189237424005, -153.03932015460305, -21...  113835.653073   \n",
       "118  [[-18472.873652688606, -16459.767056782857, -1...   67694.201219   \n",
       "119  [[-5595.715288176649, -4382.065331471811, -411...   87471.421698   \n",
       "\n",
       "               cen1  err1_x  err1_y  \n",
       "0    [512.0, 768.0]       6     592  \n",
       "1    [512.0, 768.0]    -192     655  \n",
       "2    [512.0, 768.0]     -36    -667  \n",
       "3    [512.0, 768.0]    -203     640  \n",
       "4    [512.0, 768.0]    -130     -53  \n",
       "..              ...     ...     ...  \n",
       "115  [512.0, 768.0]     472     605  \n",
       "116  [512.0, 768.0]      -5      -7  \n",
       "117  [512.0, 768.0]     -34      -7  \n",
       "118  [512.0, 768.0]    -219    -560  \n",
       "119  [512.0, 768.0]     138     540  \n",
       "\n",
       "[120 rows x 8 columns]"
      ]
     },
     "metadata": {},
     "output_type": "display_data"
    }
   ],
   "source": [
    "display(df1)"
   ]
  },
  {
   "cell_type": "code",
   "execution_count": 139,
   "metadata": {},
   "outputs": [
    {
     "data": {
      "text/html": [
       "<div>\n",
       "<style scoped>\n",
       "    .dataframe tbody tr th:only-of-type {\n",
       "        vertical-align: middle;\n",
       "    }\n",
       "\n",
       "    .dataframe tbody tr th {\n",
       "        vertical-align: top;\n",
       "    }\n",
       "\n",
       "    .dataframe thead th {\n",
       "        text-align: right;\n",
       "    }\n",
       "</style>\n",
       "<table border=\"1\" class=\"dataframe\">\n",
       "  <thead>\n",
       "    <tr style=\"text-align: right;\">\n",
       "      <th></th>\n",
       "      <th>n</th>\n",
       "      <th>use_mask</th>\n",
       "      <th>corr2</th>\n",
       "      <th>maxVal2</th>\n",
       "      <th>cen2</th>\n",
       "      <th>err2_x</th>\n",
       "      <th>err2_y</th>\n",
       "    </tr>\n",
       "  </thead>\n",
       "  <tbody>\n",
       "    <tr>\n",
       "      <th>0</th>\n",
       "      <td>0</td>\n",
       "      <td>True</td>\n",
       "      <td>[[2712.019950748035, 2372.4759354926287, 2315....</td>\n",
       "      <td>47593.618081</td>\n",
       "      <td>[512.0, 768.0]</td>\n",
       "      <td>-123</td>\n",
       "      <td>-255</td>\n",
       "    </tr>\n",
       "    <tr>\n",
       "      <th>1</th>\n",
       "      <td>0</td>\n",
       "      <td>False</td>\n",
       "      <td>[[3431.6620221696026, 2997.116361175501, 2284....</td>\n",
       "      <td>41445.289796</td>\n",
       "      <td>[512.0, 768.0]</td>\n",
       "      <td>-280</td>\n",
       "      <td>-468</td>\n",
       "    </tr>\n",
       "    <tr>\n",
       "      <th>2</th>\n",
       "      <td>1</td>\n",
       "      <td>True</td>\n",
       "      <td>[[9895.586655372334, 8542.001826774092, 6983.8...</td>\n",
       "      <td>63751.784760</td>\n",
       "      <td>[512.0, 768.0]</td>\n",
       "      <td>6</td>\n",
       "      <td>-70</td>\n",
       "    </tr>\n",
       "    <tr>\n",
       "      <th>3</th>\n",
       "      <td>1</td>\n",
       "      <td>False</td>\n",
       "      <td>[[709.8806683703106, 1330.5163617964845, 2096....</td>\n",
       "      <td>49490.732590</td>\n",
       "      <td>[512.0, 768.0]</td>\n",
       "      <td>-329</td>\n",
       "      <td>-478</td>\n",
       "    </tr>\n",
       "    <tr>\n",
       "      <th>4</th>\n",
       "      <td>2</td>\n",
       "      <td>True</td>\n",
       "      <td>[[8853.110403513285, 7412.670108971205, 5728.8...</td>\n",
       "      <td>60936.711771</td>\n",
       "      <td>[512.0, 768.0]</td>\n",
       "      <td>-85</td>\n",
       "      <td>-55</td>\n",
       "    </tr>\n",
       "    <tr>\n",
       "      <th>...</th>\n",
       "      <td>...</td>\n",
       "      <td>...</td>\n",
       "      <td>...</td>\n",
       "      <td>...</td>\n",
       "      <td>...</td>\n",
       "      <td>...</td>\n",
       "      <td>...</td>\n",
       "    </tr>\n",
       "    <tr>\n",
       "      <th>115</th>\n",
       "      <td>57</td>\n",
       "      <td>False</td>\n",
       "      <td>[[68837.7000528968, 68878.46294738656, 69300.0...</td>\n",
       "      <td>113662.737017</td>\n",
       "      <td>[512.0, 768.0]</td>\n",
       "      <td>469</td>\n",
       "      <td>622</td>\n",
       "    </tr>\n",
       "    <tr>\n",
       "      <th>116</th>\n",
       "      <td>58</td>\n",
       "      <td>True</td>\n",
       "      <td>[[-1610.9000619847975, -1642.2766029621362, -1...</td>\n",
       "      <td>101091.972171</td>\n",
       "      <td>[512.0, 768.0]</td>\n",
       "      <td>-66</td>\n",
       "      <td>-2</td>\n",
       "    </tr>\n",
       "    <tr>\n",
       "      <th>117</th>\n",
       "      <td>58</td>\n",
       "      <td>False</td>\n",
       "      <td>[[-4630.748646546352, -5440.456055281695, -604...</td>\n",
       "      <td>166162.389382</td>\n",
       "      <td>[512.0, 768.0]</td>\n",
       "      <td>-65</td>\n",
       "      <td>-5</td>\n",
       "    </tr>\n",
       "    <tr>\n",
       "      <th>118</th>\n",
       "      <td>59</td>\n",
       "      <td>True</td>\n",
       "      <td>[[-7195.155615907428, -7375.31864409454, -7632...</td>\n",
       "      <td>71265.178062</td>\n",
       "      <td>[512.0, 768.0]</td>\n",
       "      <td>41</td>\n",
       "      <td>-11</td>\n",
       "    </tr>\n",
       "    <tr>\n",
       "      <th>119</th>\n",
       "      <td>59</td>\n",
       "      <td>False</td>\n",
       "      <td>[[-18449.44231260874, -16717.656444441855, -15...</td>\n",
       "      <td>102388.357055</td>\n",
       "      <td>[512.0, 768.0]</td>\n",
       "      <td>174</td>\n",
       "      <td>504</td>\n",
       "    </tr>\n",
       "  </tbody>\n",
       "</table>\n",
       "<p>120 rows × 7 columns</p>\n",
       "</div>"
      ],
      "text/plain": [
       "      n  use_mask                                              corr2  \\\n",
       "0     0      True  [[2712.019950748035, 2372.4759354926287, 2315....   \n",
       "1     0     False  [[3431.6620221696026, 2997.116361175501, 2284....   \n",
       "2     1      True  [[9895.586655372334, 8542.001826774092, 6983.8...   \n",
       "3     1     False  [[709.8806683703106, 1330.5163617964845, 2096....   \n",
       "4     2      True  [[8853.110403513285, 7412.670108971205, 5728.8...   \n",
       "..   ..       ...                                                ...   \n",
       "115  57     False  [[68837.7000528968, 68878.46294738656, 69300.0...   \n",
       "116  58      True  [[-1610.9000619847975, -1642.2766029621362, -1...   \n",
       "117  58     False  [[-4630.748646546352, -5440.456055281695, -604...   \n",
       "118  59      True  [[-7195.155615907428, -7375.31864409454, -7632...   \n",
       "119  59     False  [[-18449.44231260874, -16717.656444441855, -15...   \n",
       "\n",
       "           maxVal2            cen2  err2_x  err2_y  \n",
       "0     47593.618081  [512.0, 768.0]    -123    -255  \n",
       "1     41445.289796  [512.0, 768.0]    -280    -468  \n",
       "2     63751.784760  [512.0, 768.0]       6     -70  \n",
       "3     49490.732590  [512.0, 768.0]    -329    -478  \n",
       "4     60936.711771  [512.0, 768.0]     -85     -55  \n",
       "..             ...             ...     ...     ...  \n",
       "115  113662.737017  [512.0, 768.0]     469     622  \n",
       "116  101091.972171  [512.0, 768.0]     -66      -2  \n",
       "117  166162.389382  [512.0, 768.0]     -65      -5  \n",
       "118   71265.178062  [512.0, 768.0]      41     -11  \n",
       "119  102388.357055  [512.0, 768.0]     174     504  \n",
       "\n",
       "[120 rows x 7 columns]"
      ]
     },
     "metadata": {},
     "output_type": "display_data"
    }
   ],
   "source": [
    "display(df2)"
   ]
  },
  {
   "cell_type": "code",
   "execution_count": 130,
   "metadata": {},
   "outputs": [
    {
     "data": {
      "application/vnd.plotly.v1+json": {
       "config": {
        "plotlyServerURL": "https://plot.ly"
       },
       "data": [
        {
         "hovertemplate": "use_mask=True<br>n=%{x}<br>value=%{y}<extra></extra>",
         "legendgroup": "True",
         "marker": {
          "color": "#636efa",
          "symbol": "circle"
         },
         "mode": "markers",
         "name": "True",
         "orientation": "v",
         "showlegend": true,
         "type": "scatter",
         "x": [
          0,
          1,
          2,
          3,
          4,
          5,
          6,
          7,
          8,
          9,
          10,
          11,
          12,
          13,
          14,
          15,
          16,
          17,
          18,
          19,
          20,
          21,
          22,
          23,
          24,
          25,
          26,
          27,
          28,
          29,
          30,
          31,
          32,
          33,
          34,
          35,
          36,
          37,
          38,
          39,
          40,
          41,
          42,
          43,
          44,
          45,
          46,
          47,
          48,
          49,
          50,
          51,
          52,
          53,
          54,
          55,
          56,
          57,
          58,
          59,
          0,
          1,
          2,
          3,
          4,
          5,
          6,
          7,
          8,
          9,
          10,
          11,
          12,
          13,
          14,
          15,
          16,
          17,
          18,
          19,
          20,
          21,
          22,
          23,
          24,
          25,
          26,
          27,
          28,
          29,
          30,
          31,
          32,
          33,
          34,
          35,
          36,
          37,
          38,
          39,
          40,
          41,
          42,
          43,
          44,
          45,
          46,
          47,
          48,
          49,
          50,
          51,
          52,
          53,
          54,
          55,
          56,
          57,
          58,
          59
         ],
         "xaxis": "x",
         "y": [
          6,
          -36,
          -130,
          -303,
          -71,
          -38,
          -56,
          -109,
          -88,
          -222,
          93,
          -154,
          68,
          -1,
          -2,
          155,
          -268,
          -59,
          -28,
          -3,
          -171,
          501,
          -448,
          63,
          -69,
          31,
          376,
          42,
          -127,
          -59,
          -244,
          13,
          -18,
          95,
          -1,
          -203,
          -50,
          -64,
          -5,
          -219,
          -171,
          501,
          -448,
          63,
          -69,
          31,
          376,
          42,
          -127,
          -59,
          -244,
          13,
          -18,
          95,
          -1,
          -203,
          -50,
          -64,
          -5,
          -219,
          592,
          -667,
          -53,
          180,
          -169,
          -174,
          -80,
          -638,
          152,
          432,
          -621,
          -14,
          190,
          -19,
          -1,
          -629,
          -588,
          37,
          -4,
          745,
          -302,
          337,
          54,
          0,
          -169,
          -179,
          680,
          15,
          334,
          -36,
          342,
          -24,
          -4,
          -24,
          -1,
          -1,
          0,
          35,
          -7,
          -560,
          -302,
          337,
          54,
          0,
          -169,
          -179,
          680,
          15,
          334,
          -36,
          342,
          -24,
          -4,
          -24,
          -1,
          -1,
          0,
          35,
          -7,
          -560
         ],
         "yaxis": "y"
        },
        {
         "hovertemplate": "<b>OLS trendline</b><br>value = 0.922715 * n + -49.7951<br>R<sup>2</sup>=0.003986<br><br>use_mask=True<br>n=%{x}<br>value=%{y} <b>(trend)</b><extra></extra>",
         "legendgroup": "True",
         "marker": {
          "color": "#636efa",
          "symbol": "circle"
         },
         "mode": "lines",
         "name": "True",
         "showlegend": false,
         "type": "scatter",
         "x": [
          0,
          0,
          1,
          1,
          2,
          2,
          3,
          3,
          4,
          4,
          5,
          5,
          6,
          6,
          7,
          7,
          8,
          8,
          9,
          9,
          10,
          10,
          11,
          11,
          12,
          12,
          13,
          13,
          14,
          14,
          15,
          15,
          16,
          16,
          17,
          17,
          18,
          18,
          19,
          19,
          20,
          20,
          21,
          21,
          22,
          22,
          23,
          23,
          24,
          24,
          25,
          25,
          26,
          26,
          27,
          27,
          28,
          28,
          29,
          29,
          30,
          30,
          31,
          31,
          32,
          32,
          33,
          33,
          34,
          34,
          35,
          35,
          36,
          36,
          37,
          37,
          38,
          38,
          39,
          39,
          40,
          40,
          41,
          41,
          42,
          42,
          43,
          43,
          44,
          44,
          45,
          45,
          46,
          46,
          47,
          47,
          48,
          48,
          49,
          49,
          50,
          50,
          51,
          51,
          52,
          52,
          53,
          53,
          54,
          54,
          55,
          55,
          56,
          56,
          57,
          57,
          58,
          58,
          59,
          59
         ],
         "xaxis": "x",
         "y": [
          -49.79508196721315,
          -49.79508196721315,
          -48.87236732425677,
          -48.87236732425677,
          -47.94965268130039,
          -47.94965268130039,
          -47.02693803834402,
          -47.02693803834402,
          -46.10422339538764,
          -46.10422339538764,
          -45.18150875243126,
          -45.18150875243126,
          -44.258794109474884,
          -44.258794109474884,
          -43.336079466518505,
          -43.336079466518505,
          -42.413364823562134,
          -42.413364823562134,
          -41.490650180605755,
          -41.490650180605755,
          -40.567935537649376,
          -40.567935537649376,
          -39.645220894693,
          -39.645220894693,
          -38.72250625173662,
          -38.72250625173662,
          -37.79979160878024,
          -37.79979160878024,
          -36.87707696582386,
          -36.87707696582386,
          -35.95436232286749,
          -35.95436232286749,
          -35.03164767991111,
          -35.03164767991111,
          -34.10893303695473,
          -34.10893303695473,
          -33.18621839399836,
          -33.18621839399836,
          -32.26350375104198,
          -32.26350375104198,
          -31.340789108085602,
          -31.340789108085602,
          -30.418074465129223,
          -30.418074465129223,
          -29.495359822172844,
          -29.495359822172844,
          -28.57264517921647,
          -28.57264517921647,
          -27.64993053626009,
          -27.64993053626009,
          -26.72721589330371,
          -26.72721589330371,
          -25.804501250347336,
          -25.804501250347336,
          -24.881786607390957,
          -24.881786607390957,
          -23.959071964434578,
          -23.959071964434578,
          -23.036357321478203,
          -23.036357321478203,
          -22.113642678521824,
          -22.113642678521824,
          -21.19092803556545,
          -21.19092803556545,
          -20.26821339260907,
          -20.26821339260907,
          -19.34549874965269,
          -19.34549874965269,
          -18.422784106696316,
          -18.422784106696316,
          -17.50006946373994,
          -17.50006946373994,
          -16.57735482078356,
          -16.57735482078356,
          -15.654640177827183,
          -15.654640177827183,
          -14.731925534870804,
          -14.731925534870804,
          -13.809210891914425,
          -13.809210891914425,
          -12.886496248958053,
          -12.886496248958053,
          -11.963781606001675,
          -11.963781606001675,
          -11.041066963045296,
          -11.041066963045296,
          -10.118352320088917,
          -10.118352320088917,
          -9.195637677132538,
          -9.195637677132538,
          -8.27292303417616,
          -8.27292303417616,
          -7.3502083912197875,
          -7.3502083912197875,
          -6.427493748263409,
          -6.427493748263409,
          -5.50477910530703,
          -5.50477910530703,
          -4.582064462350651,
          -4.582064462350651,
          -3.659349819394272,
          -3.659349819394272,
          -2.7366351764379004,
          -2.7366351764379004,
          -1.8139205334815216,
          -1.8139205334815216,
          -0.8912058905251428,
          -0.8912058905251428,
          0.031508752431236076,
          0.031508752431236076,
          0.9542233953876149,
          0.9542233953876149,
          1.8769380383439938,
          1.8769380383439938,
          2.7996526813003655,
          2.7996526813003655,
          3.7223673242567443,
          3.7223673242567443,
          4.645081967213123,
          4.645081967213123
         ],
         "yaxis": "y"
        },
        {
         "hovertemplate": "use_mask=False<br>n=%{x}<br>value=%{y}<extra></extra>",
         "legendgroup": "False",
         "marker": {
          "color": "#EF553B",
          "symbol": "circle"
         },
         "mode": "markers",
         "name": "False",
         "orientation": "v",
         "showlegend": true,
         "type": "scatter",
         "x": [
          0,
          1,
          2,
          3,
          4,
          5,
          6,
          7,
          8,
          9,
          10,
          11,
          12,
          13,
          14,
          15,
          16,
          17,
          18,
          19,
          20,
          21,
          22,
          23,
          24,
          25,
          26,
          27,
          28,
          29,
          30,
          31,
          32,
          33,
          34,
          35,
          36,
          37,
          38,
          39,
          40,
          41,
          42,
          43,
          44,
          45,
          46,
          47,
          48,
          49,
          50,
          51,
          52,
          53,
          54,
          55,
          56,
          57,
          58,
          59,
          0,
          1,
          2,
          3,
          4,
          5,
          6,
          7,
          8,
          9,
          10,
          11,
          12,
          13,
          14,
          15,
          16,
          17,
          18,
          19,
          20,
          21,
          22,
          23,
          24,
          25,
          26,
          27,
          28,
          29,
          30,
          31,
          32,
          33,
          34,
          35,
          36,
          37,
          38,
          39,
          40,
          41,
          42,
          43,
          44,
          45,
          46,
          47,
          48,
          49,
          50,
          51,
          52,
          53,
          54,
          55,
          56,
          57,
          58,
          59
         ],
         "xaxis": "x",
         "y": [
          -192,
          -203,
          -292,
          456,
          -70,
          -37,
          -351,
          -5,
          124,
          127,
          134,
          -13,
          -41,
          97,
          -3,
          452,
          -339,
          246,
          -27,
          -71,
          -172,
          96,
          128,
          14,
          -303,
          -255,
          -422,
          139,
          -51,
          -16,
          -16,
          -33,
          57,
          72,
          -2,
          -319,
          -337,
          472,
          -34,
          138,
          -172,
          96,
          128,
          14,
          -303,
          -255,
          -422,
          139,
          -51,
          -16,
          -16,
          -33,
          57,
          72,
          -2,
          -319,
          -337,
          472,
          -34,
          138,
          655,
          640,
          -567,
          -196,
          -169,
          -175,
          673,
          483,
          -8,
          -27,
          -22,
          -22,
          -9,
          -25,
          -2,
          472,
          157,
          -134,
          -12,
          658,
          -304,
          -609,
          -726,
          19,
          554,
          371,
          614,
          108,
          -42,
          -59,
          -56,
          -22,
          -7,
          -28,
          -2,
          452,
          -640,
          605,
          -7,
          540,
          -304,
          -609,
          -726,
          19,
          554,
          371,
          614,
          108,
          -42,
          -59,
          -56,
          -22,
          -7,
          -28,
          -2,
          452,
          -640,
          605,
          -7,
          540
         ],
         "yaxis": "y"
        },
        {
         "hovertemplate": "<b>OLS trendline</b><br>value = -0.132898 * n + 22.2205<br>R<sup>2</sup>=0.000055<br><br>use_mask=False<br>n=%{x}<br>value=%{y} <b>(trend)</b><extra></extra>",
         "legendgroup": "False",
         "marker": {
          "color": "#EF553B",
          "symbol": "circle"
         },
         "mode": "lines",
         "name": "False",
         "showlegend": false,
         "type": "scatter",
         "x": [
          0,
          0,
          1,
          1,
          2,
          2,
          3,
          3,
          4,
          4,
          5,
          5,
          6,
          6,
          7,
          7,
          8,
          8,
          9,
          9,
          10,
          10,
          11,
          11,
          12,
          12,
          13,
          13,
          14,
          14,
          15,
          15,
          16,
          16,
          17,
          17,
          18,
          18,
          19,
          19,
          20,
          20,
          21,
          21,
          22,
          22,
          23,
          23,
          24,
          24,
          25,
          25,
          26,
          26,
          27,
          27,
          28,
          28,
          29,
          29,
          30,
          30,
          31,
          31,
          32,
          32,
          33,
          33,
          34,
          34,
          35,
          35,
          36,
          36,
          37,
          37,
          38,
          38,
          39,
          39,
          40,
          40,
          41,
          41,
          42,
          42,
          43,
          43,
          44,
          44,
          45,
          45,
          46,
          46,
          47,
          47,
          48,
          48,
          49,
          49,
          50,
          50,
          51,
          51,
          52,
          52,
          53,
          53,
          54,
          54,
          55,
          55,
          56,
          56,
          57,
          57,
          58,
          58,
          59,
          59
         ],
         "xaxis": "x",
         "y": [
          22.220491803278698,
          22.220491803278698,
          22.087593776048912,
          22.087593776048912,
          21.954695748819127,
          21.954695748819127,
          21.821797721589338,
          21.821797721589338,
          21.688899694359552,
          21.688899694359552,
          21.556001667129767,
          21.556001667129767,
          21.42310363989998,
          21.42310363989998,
          21.290205612670196,
          21.290205612670196,
          21.157307585440407,
          21.157307585440407,
          21.02440955821062,
          21.02440955821062,
          20.891511530980836,
          20.891511530980836,
          20.75861350375105,
          20.75861350375105,
          20.625715476521265,
          20.625715476521265,
          20.49281744929148,
          20.49281744929148,
          20.35991942206169,
          20.35991942206169,
          20.227021394831905,
          20.227021394831905,
          20.09412336760212,
          20.09412336760212,
          19.961225340372334,
          19.961225340372334,
          19.828327313142548,
          19.828327313142548,
          19.69542928591276,
          19.69542928591276,
          19.562531258682974,
          19.562531258682974,
          19.429633231453188,
          19.429633231453188,
          19.296735204223403,
          19.296735204223403,
          19.163837176993617,
          19.163837176993617,
          19.03093914976383,
          19.03093914976383,
          18.898041122534043,
          18.898041122534043,
          18.765143095304257,
          18.765143095304257,
          18.63224506807447,
          18.63224506807447,
          18.499347040844686,
          18.499347040844686,
          18.366449013614897,
          18.366449013614897,
          18.23355098638511,
          18.23355098638511,
          18.100652959155326,
          18.100652959155326,
          17.96775493192554,
          17.96775493192554,
          17.834856904695755,
          17.834856904695755,
          17.70195887746597,
          17.70195887746597,
          17.569060850236184,
          17.569060850236184,
          17.436162823006395,
          17.436162823006395,
          17.30326479577661,
          17.30326479577661,
          17.170366768546824,
          17.170366768546824,
          17.03746874131704,
          17.03746874131704,
          16.90457071408725,
          16.90457071408725,
          16.771672686857464,
          16.771672686857464,
          16.63877465962768,
          16.63877465962768,
          16.505876632397893,
          16.505876632397893,
          16.372978605168107,
          16.372978605168107,
          16.240080577938322,
          16.240080577938322,
          16.107182550708536,
          16.107182550708536,
          15.974284523478747,
          15.974284523478747,
          15.841386496248962,
          15.841386496248962,
          15.708488469019176,
          15.708488469019176,
          15.57559044178939,
          15.57559044178939,
          15.442692414559604,
          15.442692414559604,
          15.309794387329816,
          15.309794387329816,
          15.17689636010003,
          15.17689636010003,
          15.043998332870245,
          15.043998332870245,
          14.91110030564046,
          14.91110030564046,
          14.778202278410673,
          14.778202278410673,
          14.645304251180885,
          14.645304251180885,
          14.5124062239511,
          14.5124062239511,
          14.379508196721314,
          14.379508196721314
         ],
         "yaxis": "y"
        }
       ],
       "layout": {
        "legend": {
         "title": {
          "text": "use_mask"
         },
         "tracegroupgap": 0
        },
        "margin": {
         "t": 60
        },
        "template": {
         "data": {
          "bar": [
           {
            "error_x": {
             "color": "#2a3f5f"
            },
            "error_y": {
             "color": "#2a3f5f"
            },
            "marker": {
             "line": {
              "color": "#E5ECF6",
              "width": 0.5
             },
             "pattern": {
              "fillmode": "overlay",
              "size": 10,
              "solidity": 0.2
             }
            },
            "type": "bar"
           }
          ],
          "barpolar": [
           {
            "marker": {
             "line": {
              "color": "#E5ECF6",
              "width": 0.5
             },
             "pattern": {
              "fillmode": "overlay",
              "size": 10,
              "solidity": 0.2
             }
            },
            "type": "barpolar"
           }
          ],
          "carpet": [
           {
            "aaxis": {
             "endlinecolor": "#2a3f5f",
             "gridcolor": "white",
             "linecolor": "white",
             "minorgridcolor": "white",
             "startlinecolor": "#2a3f5f"
            },
            "baxis": {
             "endlinecolor": "#2a3f5f",
             "gridcolor": "white",
             "linecolor": "white",
             "minorgridcolor": "white",
             "startlinecolor": "#2a3f5f"
            },
            "type": "carpet"
           }
          ],
          "choropleth": [
           {
            "colorbar": {
             "outlinewidth": 0,
             "ticks": ""
            },
            "type": "choropleth"
           }
          ],
          "contour": [
           {
            "colorbar": {
             "outlinewidth": 0,
             "ticks": ""
            },
            "colorscale": [
             [
              0,
              "#0d0887"
             ],
             [
              0.1111111111111111,
              "#46039f"
             ],
             [
              0.2222222222222222,
              "#7201a8"
             ],
             [
              0.3333333333333333,
              "#9c179e"
             ],
             [
              0.4444444444444444,
              "#bd3786"
             ],
             [
              0.5555555555555556,
              "#d8576b"
             ],
             [
              0.6666666666666666,
              "#ed7953"
             ],
             [
              0.7777777777777778,
              "#fb9f3a"
             ],
             [
              0.8888888888888888,
              "#fdca26"
             ],
             [
              1,
              "#f0f921"
             ]
            ],
            "type": "contour"
           }
          ],
          "contourcarpet": [
           {
            "colorbar": {
             "outlinewidth": 0,
             "ticks": ""
            },
            "type": "contourcarpet"
           }
          ],
          "heatmap": [
           {
            "colorbar": {
             "outlinewidth": 0,
             "ticks": ""
            },
            "colorscale": [
             [
              0,
              "#0d0887"
             ],
             [
              0.1111111111111111,
              "#46039f"
             ],
             [
              0.2222222222222222,
              "#7201a8"
             ],
             [
              0.3333333333333333,
              "#9c179e"
             ],
             [
              0.4444444444444444,
              "#bd3786"
             ],
             [
              0.5555555555555556,
              "#d8576b"
             ],
             [
              0.6666666666666666,
              "#ed7953"
             ],
             [
              0.7777777777777778,
              "#fb9f3a"
             ],
             [
              0.8888888888888888,
              "#fdca26"
             ],
             [
              1,
              "#f0f921"
             ]
            ],
            "type": "heatmap"
           }
          ],
          "heatmapgl": [
           {
            "colorbar": {
             "outlinewidth": 0,
             "ticks": ""
            },
            "colorscale": [
             [
              0,
              "#0d0887"
             ],
             [
              0.1111111111111111,
              "#46039f"
             ],
             [
              0.2222222222222222,
              "#7201a8"
             ],
             [
              0.3333333333333333,
              "#9c179e"
             ],
             [
              0.4444444444444444,
              "#bd3786"
             ],
             [
              0.5555555555555556,
              "#d8576b"
             ],
             [
              0.6666666666666666,
              "#ed7953"
             ],
             [
              0.7777777777777778,
              "#fb9f3a"
             ],
             [
              0.8888888888888888,
              "#fdca26"
             ],
             [
              1,
              "#f0f921"
             ]
            ],
            "type": "heatmapgl"
           }
          ],
          "histogram": [
           {
            "marker": {
             "pattern": {
              "fillmode": "overlay",
              "size": 10,
              "solidity": 0.2
             }
            },
            "type": "histogram"
           }
          ],
          "histogram2d": [
           {
            "colorbar": {
             "outlinewidth": 0,
             "ticks": ""
            },
            "colorscale": [
             [
              0,
              "#0d0887"
             ],
             [
              0.1111111111111111,
              "#46039f"
             ],
             [
              0.2222222222222222,
              "#7201a8"
             ],
             [
              0.3333333333333333,
              "#9c179e"
             ],
             [
              0.4444444444444444,
              "#bd3786"
             ],
             [
              0.5555555555555556,
              "#d8576b"
             ],
             [
              0.6666666666666666,
              "#ed7953"
             ],
             [
              0.7777777777777778,
              "#fb9f3a"
             ],
             [
              0.8888888888888888,
              "#fdca26"
             ],
             [
              1,
              "#f0f921"
             ]
            ],
            "type": "histogram2d"
           }
          ],
          "histogram2dcontour": [
           {
            "colorbar": {
             "outlinewidth": 0,
             "ticks": ""
            },
            "colorscale": [
             [
              0,
              "#0d0887"
             ],
             [
              0.1111111111111111,
              "#46039f"
             ],
             [
              0.2222222222222222,
              "#7201a8"
             ],
             [
              0.3333333333333333,
              "#9c179e"
             ],
             [
              0.4444444444444444,
              "#bd3786"
             ],
             [
              0.5555555555555556,
              "#d8576b"
             ],
             [
              0.6666666666666666,
              "#ed7953"
             ],
             [
              0.7777777777777778,
              "#fb9f3a"
             ],
             [
              0.8888888888888888,
              "#fdca26"
             ],
             [
              1,
              "#f0f921"
             ]
            ],
            "type": "histogram2dcontour"
           }
          ],
          "mesh3d": [
           {
            "colorbar": {
             "outlinewidth": 0,
             "ticks": ""
            },
            "type": "mesh3d"
           }
          ],
          "parcoords": [
           {
            "line": {
             "colorbar": {
              "outlinewidth": 0,
              "ticks": ""
             }
            },
            "type": "parcoords"
           }
          ],
          "pie": [
           {
            "automargin": true,
            "type": "pie"
           }
          ],
          "scatter": [
           {
            "fillpattern": {
             "fillmode": "overlay",
             "size": 10,
             "solidity": 0.2
            },
            "type": "scatter"
           }
          ],
          "scatter3d": [
           {
            "line": {
             "colorbar": {
              "outlinewidth": 0,
              "ticks": ""
             }
            },
            "marker": {
             "colorbar": {
              "outlinewidth": 0,
              "ticks": ""
             }
            },
            "type": "scatter3d"
           }
          ],
          "scattercarpet": [
           {
            "marker": {
             "colorbar": {
              "outlinewidth": 0,
              "ticks": ""
             }
            },
            "type": "scattercarpet"
           }
          ],
          "scattergeo": [
           {
            "marker": {
             "colorbar": {
              "outlinewidth": 0,
              "ticks": ""
             }
            },
            "type": "scattergeo"
           }
          ],
          "scattergl": [
           {
            "marker": {
             "colorbar": {
              "outlinewidth": 0,
              "ticks": ""
             }
            },
            "type": "scattergl"
           }
          ],
          "scattermapbox": [
           {
            "marker": {
             "colorbar": {
              "outlinewidth": 0,
              "ticks": ""
             }
            },
            "type": "scattermapbox"
           }
          ],
          "scatterpolar": [
           {
            "marker": {
             "colorbar": {
              "outlinewidth": 0,
              "ticks": ""
             }
            },
            "type": "scatterpolar"
           }
          ],
          "scatterpolargl": [
           {
            "marker": {
             "colorbar": {
              "outlinewidth": 0,
              "ticks": ""
             }
            },
            "type": "scatterpolargl"
           }
          ],
          "scatterternary": [
           {
            "marker": {
             "colorbar": {
              "outlinewidth": 0,
              "ticks": ""
             }
            },
            "type": "scatterternary"
           }
          ],
          "surface": [
           {
            "colorbar": {
             "outlinewidth": 0,
             "ticks": ""
            },
            "colorscale": [
             [
              0,
              "#0d0887"
             ],
             [
              0.1111111111111111,
              "#46039f"
             ],
             [
              0.2222222222222222,
              "#7201a8"
             ],
             [
              0.3333333333333333,
              "#9c179e"
             ],
             [
              0.4444444444444444,
              "#bd3786"
             ],
             [
              0.5555555555555556,
              "#d8576b"
             ],
             [
              0.6666666666666666,
              "#ed7953"
             ],
             [
              0.7777777777777778,
              "#fb9f3a"
             ],
             [
              0.8888888888888888,
              "#fdca26"
             ],
             [
              1,
              "#f0f921"
             ]
            ],
            "type": "surface"
           }
          ],
          "table": [
           {
            "cells": {
             "fill": {
              "color": "#EBF0F8"
             },
             "line": {
              "color": "white"
             }
            },
            "header": {
             "fill": {
              "color": "#C8D4E3"
             },
             "line": {
              "color": "white"
             }
            },
            "type": "table"
           }
          ]
         },
         "layout": {
          "annotationdefaults": {
           "arrowcolor": "#2a3f5f",
           "arrowhead": 0,
           "arrowwidth": 1
          },
          "autotypenumbers": "strict",
          "coloraxis": {
           "colorbar": {
            "outlinewidth": 0,
            "ticks": ""
           }
          },
          "colorscale": {
           "diverging": [
            [
             0,
             "#8e0152"
            ],
            [
             0.1,
             "#c51b7d"
            ],
            [
             0.2,
             "#de77ae"
            ],
            [
             0.3,
             "#f1b6da"
            ],
            [
             0.4,
             "#fde0ef"
            ],
            [
             0.5,
             "#f7f7f7"
            ],
            [
             0.6,
             "#e6f5d0"
            ],
            [
             0.7,
             "#b8e186"
            ],
            [
             0.8,
             "#7fbc41"
            ],
            [
             0.9,
             "#4d9221"
            ],
            [
             1,
             "#276419"
            ]
           ],
           "sequential": [
            [
             0,
             "#0d0887"
            ],
            [
             0.1111111111111111,
             "#46039f"
            ],
            [
             0.2222222222222222,
             "#7201a8"
            ],
            [
             0.3333333333333333,
             "#9c179e"
            ],
            [
             0.4444444444444444,
             "#bd3786"
            ],
            [
             0.5555555555555556,
             "#d8576b"
            ],
            [
             0.6666666666666666,
             "#ed7953"
            ],
            [
             0.7777777777777778,
             "#fb9f3a"
            ],
            [
             0.8888888888888888,
             "#fdca26"
            ],
            [
             1,
             "#f0f921"
            ]
           ],
           "sequentialminus": [
            [
             0,
             "#0d0887"
            ],
            [
             0.1111111111111111,
             "#46039f"
            ],
            [
             0.2222222222222222,
             "#7201a8"
            ],
            [
             0.3333333333333333,
             "#9c179e"
            ],
            [
             0.4444444444444444,
             "#bd3786"
            ],
            [
             0.5555555555555556,
             "#d8576b"
            ],
            [
             0.6666666666666666,
             "#ed7953"
            ],
            [
             0.7777777777777778,
             "#fb9f3a"
            ],
            [
             0.8888888888888888,
             "#fdca26"
            ],
            [
             1,
             "#f0f921"
            ]
           ]
          },
          "colorway": [
           "#636efa",
           "#EF553B",
           "#00cc96",
           "#ab63fa",
           "#FFA15A",
           "#19d3f3",
           "#FF6692",
           "#B6E880",
           "#FF97FF",
           "#FECB52"
          ],
          "font": {
           "color": "#2a3f5f"
          },
          "geo": {
           "bgcolor": "white",
           "lakecolor": "white",
           "landcolor": "#E5ECF6",
           "showlakes": true,
           "showland": true,
           "subunitcolor": "white"
          },
          "hoverlabel": {
           "align": "left"
          },
          "hovermode": "closest",
          "mapbox": {
           "style": "light"
          },
          "paper_bgcolor": "white",
          "plot_bgcolor": "#E5ECF6",
          "polar": {
           "angularaxis": {
            "gridcolor": "white",
            "linecolor": "white",
            "ticks": ""
           },
           "bgcolor": "#E5ECF6",
           "radialaxis": {
            "gridcolor": "white",
            "linecolor": "white",
            "ticks": ""
           }
          },
          "scene": {
           "xaxis": {
            "backgroundcolor": "#E5ECF6",
            "gridcolor": "white",
            "gridwidth": 2,
            "linecolor": "white",
            "showbackground": true,
            "ticks": "",
            "zerolinecolor": "white"
           },
           "yaxis": {
            "backgroundcolor": "#E5ECF6",
            "gridcolor": "white",
            "gridwidth": 2,
            "linecolor": "white",
            "showbackground": true,
            "ticks": "",
            "zerolinecolor": "white"
           },
           "zaxis": {
            "backgroundcolor": "#E5ECF6",
            "gridcolor": "white",
            "gridwidth": 2,
            "linecolor": "white",
            "showbackground": true,
            "ticks": "",
            "zerolinecolor": "white"
           }
          },
          "shapedefaults": {
           "line": {
            "color": "#2a3f5f"
           }
          },
          "ternary": {
           "aaxis": {
            "gridcolor": "white",
            "linecolor": "white",
            "ticks": ""
           },
           "baxis": {
            "gridcolor": "white",
            "linecolor": "white",
            "ticks": ""
           },
           "bgcolor": "#E5ECF6",
           "caxis": {
            "gridcolor": "white",
            "linecolor": "white",
            "ticks": ""
           }
          },
          "title": {
           "x": 0.05
          },
          "xaxis": {
           "automargin": true,
           "gridcolor": "white",
           "linecolor": "white",
           "ticks": "",
           "title": {
            "standoff": 15
           },
           "zerolinecolor": "white",
           "zerolinewidth": 2
          },
          "yaxis": {
           "automargin": true,
           "gridcolor": "white",
           "linecolor": "white",
           "ticks": "",
           "title": {
            "standoff": 15
           },
           "zerolinecolor": "white",
           "zerolinewidth": 2
          }
         }
        },
        "xaxis": {
         "anchor": "y",
         "domain": [
          0,
          1
         ],
         "title": {
          "text": "n"
         }
        },
        "yaxis": {
         "anchor": "x",
         "domain": [
          0,
          1
         ],
         "title": {
          "text": "value"
         }
        }
       }
      }
     },
     "metadata": {},
     "output_type": "display_data"
    }
   ],
   "source": [
    "\n",
    "px.scatter(df1, \"n\", [\"err1_x\", \"err1_y\"], color=\"use_mask\", trendline=\"ols\")"
   ]
  },
  {
   "cell_type": "code",
   "execution_count": 131,
   "metadata": {},
   "outputs": [
    {
     "data": {
      "application/vnd.plotly.v1+json": {
       "config": {
        "plotlyServerURL": "https://plot.ly"
       },
       "data": [
        {
         "hovertemplate": "use_mask=True<br>n=%{x}<br>value=%{y}<extra></extra>",
         "legendgroup": "True",
         "marker": {
          "color": "#636efa",
          "symbol": "circle"
         },
         "mode": "markers",
         "name": "True",
         "orientation": "v",
         "showlegend": true,
         "type": "scatter",
         "x": [
          0,
          1,
          2,
          3,
          4,
          5,
          6,
          7,
          8,
          9,
          10,
          11,
          12,
          13,
          14,
          15,
          16,
          17,
          18,
          19,
          20,
          21,
          22,
          23,
          24,
          25,
          26,
          27,
          28,
          29,
          30,
          31,
          32,
          33,
          34,
          35,
          36,
          37,
          38,
          39,
          40,
          41,
          42,
          43,
          44,
          45,
          46,
          47,
          48,
          49,
          50,
          51,
          52,
          53,
          54,
          55,
          56,
          57,
          58,
          59,
          0,
          1,
          2,
          3,
          4,
          5,
          6,
          7,
          8,
          9,
          10,
          11,
          12,
          13,
          14,
          15,
          16,
          17,
          18,
          19,
          20,
          21,
          22,
          23,
          24,
          25,
          26,
          27,
          28,
          29,
          30,
          31,
          32,
          33,
          34,
          35,
          36,
          37,
          38,
          39,
          40,
          41,
          42,
          43,
          44,
          45,
          46,
          47,
          48,
          49,
          50,
          51,
          52,
          53,
          54,
          55,
          56,
          57,
          58,
          59
         ],
         "xaxis": "x",
         "y": [
          -123,
          6,
          -85,
          101,
          -51,
          -12,
          -245,
          195,
          -175,
          -124,
          -245,
          -119,
          90,
          145,
          -390,
          467,
          475,
          -14,
          -82,
          6,
          76,
          -68,
          117,
          463,
          -85,
          -254,
          1,
          -90,
          -136,
          -135,
          -136,
          367,
          -372,
          -219,
          23,
          -244,
          -264,
          -7,
          -66,
          41,
          76,
          -68,
          117,
          463,
          -85,
          -254,
          1,
          -90,
          -136,
          -135,
          -136,
          367,
          -372,
          -219,
          23,
          -244,
          -264,
          -7,
          -66,
          41,
          -255,
          -70,
          -55,
          19,
          -205,
          -192,
          -90,
          -10,
          -533,
          711,
          580,
          524,
          -229,
          -2,
          -561,
          105,
          604,
          19,
          -383,
          637,
          144,
          -603,
          -711,
          -1,
          -207,
          -217,
          14,
          -629,
          685,
          316,
          189,
          -381,
          207,
          -355,
          -100,
          194,
          -87,
          18,
          -2,
          -11,
          144,
          -603,
          -711,
          -1,
          -207,
          -217,
          14,
          -629,
          685,
          316,
          189,
          -381,
          207,
          -355,
          -100,
          194,
          -87,
          18,
          -2,
          -11
         ],
         "yaxis": "y"
        },
        {
         "hovertemplate": "<b>OLS trendline</b><br>value = -0.938705 * n + -10.7749<br>R<sup>2</sup>=0.003195<br><br>use_mask=True<br>n=%{x}<br>value=%{y} <b>(trend)</b><extra></extra>",
         "legendgroup": "True",
         "marker": {
          "color": "#636efa",
          "symbol": "circle"
         },
         "mode": "lines",
         "name": "True",
         "showlegend": false,
         "type": "scatter",
         "x": [
          0,
          0,
          1,
          1,
          2,
          2,
          3,
          3,
          4,
          4,
          5,
          5,
          6,
          6,
          7,
          7,
          8,
          8,
          9,
          9,
          10,
          10,
          11,
          11,
          12,
          12,
          13,
          13,
          14,
          14,
          15,
          15,
          16,
          16,
          17,
          17,
          18,
          18,
          19,
          19,
          20,
          20,
          21,
          21,
          22,
          22,
          23,
          23,
          24,
          24,
          25,
          25,
          26,
          26,
          27,
          27,
          28,
          28,
          29,
          29,
          30,
          30,
          31,
          31,
          32,
          32,
          33,
          33,
          34,
          34,
          35,
          35,
          36,
          36,
          37,
          37,
          38,
          38,
          39,
          39,
          40,
          40,
          41,
          41,
          42,
          42,
          43,
          43,
          44,
          44,
          45,
          45,
          46,
          46,
          47,
          47,
          48,
          48,
          49,
          49,
          50,
          50,
          51,
          51,
          52,
          52,
          53,
          53,
          54,
          54,
          55,
          55,
          56,
          56,
          57,
          57,
          58,
          58,
          59,
          59
         ],
         "xaxis": "x",
         "y": [
          -10.774863387978144,
          -10.774863387978144,
          -11.71356858386589,
          -11.71356858386589,
          -12.652273779753637,
          -12.652273779753637,
          -13.590978975641384,
          -13.590978975641384,
          -14.52968417152913,
          -14.52968417152913,
          -15.468389367416876,
          -15.468389367416876,
          -16.407094563304625,
          -16.407094563304625,
          -17.34579975919237,
          -17.34579975919237,
          -18.284504955080116,
          -18.284504955080116,
          -19.223210150967862,
          -19.223210150967862,
          -20.161915346855608,
          -20.161915346855608,
          -21.100620542743357,
          -21.100620542743357,
          -22.039325738631103,
          -22.039325738631103,
          -22.97803093451885,
          -22.97803093451885,
          -23.916736130406598,
          -23.916736130406598,
          -24.855441326294343,
          -24.855441326294343,
          -25.79414652218209,
          -25.79414652218209,
          -26.732851718069835,
          -26.732851718069835,
          -27.67155691395758,
          -27.67155691395758,
          -28.61026210984533,
          -28.61026210984533,
          -29.548967305733076,
          -29.548967305733076,
          -30.48767250162082,
          -30.48767250162082,
          -31.42637769750857,
          -31.42637769750857,
          -32.36508289339632,
          -32.36508289339632,
          -33.30378808928406,
          -33.30378808928406,
          -34.242493285171804,
          -34.242493285171804,
          -35.18119848105955,
          -35.18119848105955,
          -36.1199036769473,
          -36.1199036769473,
          -37.05860887283505,
          -37.05860887283505,
          -37.997314068722794,
          -37.997314068722794,
          -38.93601926461054,
          -38.93601926461054,
          -39.874724460498285,
          -39.874724460498285,
          -40.813429656386035,
          -40.813429656386035,
          -41.752134852273784,
          -41.752134852273784,
          -42.690840048161526,
          -42.690840048161526,
          -43.629545244049275,
          -43.629545244049275,
          -44.56825043993702,
          -44.56825043993702,
          -45.50695563582477,
          -45.50695563582477,
          -46.445660831712516,
          -46.445660831712516,
          -47.38436602760026,
          -47.38436602760026,
          -48.32307122348801,
          -48.32307122348801,
          -49.26177641937576,
          -49.26177641937576,
          -50.2004816152635,
          -50.2004816152635,
          -51.13918681115125,
          -51.13918681115125,
          -52.077892007039,
          -52.077892007039,
          -53.01659720292674,
          -53.01659720292674,
          -53.95530239881449,
          -53.95530239881449,
          -54.89400759470223,
          -54.89400759470223,
          -55.83271279058998,
          -55.83271279058998,
          -56.77141798647773,
          -56.77141798647773,
          -57.71012318236547,
          -57.71012318236547,
          -58.64882837825322,
          -58.64882837825322,
          -59.58753357414096,
          -59.58753357414096,
          -60.52623877002871,
          -60.52623877002871,
          -61.46494396591646,
          -61.46494396591646,
          -62.4036491618042,
          -62.4036491618042,
          -63.34235435769195,
          -63.34235435769195,
          -64.2810595535797,
          -64.2810595535797,
          -65.21976474946744,
          -65.21976474946744,
          -66.1584699453552,
          -66.1584699453552
         ],
         "yaxis": "y"
        },
        {
         "hovertemplate": "use_mask=False<br>n=%{x}<br>value=%{y}<extra></extra>",
         "legendgroup": "False",
         "marker": {
          "color": "#EF553B",
          "symbol": "circle"
         },
         "mode": "markers",
         "name": "False",
         "orientation": "v",
         "showlegend": true,
         "type": "scatter",
         "x": [
          0,
          1,
          2,
          3,
          4,
          5,
          6,
          7,
          8,
          9,
          10,
          11,
          12,
          13,
          14,
          15,
          16,
          17,
          18,
          19,
          20,
          21,
          22,
          23,
          24,
          25,
          26,
          27,
          28,
          29,
          30,
          31,
          32,
          33,
          34,
          35,
          36,
          37,
          38,
          39,
          40,
          41,
          42,
          43,
          44,
          45,
          46,
          47,
          48,
          49,
          50,
          51,
          52,
          53,
          54,
          55,
          56,
          57,
          58,
          59,
          0,
          1,
          2,
          3,
          4,
          5,
          6,
          7,
          8,
          9,
          10,
          11,
          12,
          13,
          14,
          15,
          16,
          17,
          18,
          19,
          20,
          21,
          22,
          23,
          24,
          25,
          26,
          27,
          28,
          29,
          30,
          31,
          32,
          33,
          34,
          35,
          36,
          37,
          38,
          39,
          40,
          41,
          42,
          43,
          44,
          45,
          46,
          47,
          48,
          49,
          50,
          51,
          52,
          53,
          54,
          55,
          56,
          57,
          58,
          59
         ],
         "xaxis": "x",
         "y": [
          -280,
          -329,
          -353,
          220,
          -77,
          -20,
          -374,
          288,
          -40,
          -33,
          -20,
          -12,
          -83,
          25,
          7,
          440,
          305,
          -55,
          -31,
          -71,
          -151,
          61,
          86,
          -186,
          -37,
          -15,
          -448,
          180,
          -47,
          -67,
          -50,
          -38,
          -25,
          4,
          41,
          -50,
          -368,
          469,
          -65,
          174,
          -151,
          61,
          86,
          -186,
          -37,
          -15,
          -448,
          180,
          -47,
          -67,
          -50,
          -38,
          -25,
          4,
          41,
          -50,
          -368,
          469,
          -65,
          174,
          -468,
          -478,
          -94,
          -333,
          -206,
          -193,
          689,
          727,
          -51,
          -31,
          -13,
          -18,
          -18,
          -37,
          -38,
          499,
          316,
          19,
          -4,
          601,
          -378,
          -654,
          -725,
          0,
          -184,
          -194,
          621,
          30,
          -46,
          -49,
          -47,
          -22,
          -15,
          -26,
          -56,
          -652,
          -608,
          622,
          -5,
          504,
          -378,
          -654,
          -725,
          0,
          -184,
          -194,
          621,
          30,
          -46,
          -49,
          -47,
          -22,
          -15,
          -26,
          -56,
          -652,
          -608,
          622,
          -5,
          504
         ],
         "yaxis": "y"
        },
        {
         "hovertemplate": "<b>OLS trendline</b><br>value = 0.441539 * n + -50.1587<br>R<sup>2</sup>=0.000667<br><br>use_mask=False<br>n=%{x}<br>value=%{y} <b>(trend)</b><extra></extra>",
         "legendgroup": "False",
         "marker": {
          "color": "#EF553B",
          "symbol": "circle"
         },
         "mode": "lines",
         "name": "False",
         "showlegend": false,
         "type": "scatter",
         "x": [
          0,
          0,
          1,
          1,
          2,
          2,
          3,
          3,
          4,
          4,
          5,
          5,
          6,
          6,
          7,
          7,
          8,
          8,
          9,
          9,
          10,
          10,
          11,
          11,
          12,
          12,
          13,
          13,
          14,
          14,
          15,
          15,
          16,
          16,
          17,
          17,
          18,
          18,
          19,
          19,
          20,
          20,
          21,
          21,
          22,
          22,
          23,
          23,
          24,
          24,
          25,
          25,
          26,
          26,
          27,
          27,
          28,
          28,
          29,
          29,
          30,
          30,
          31,
          31,
          32,
          32,
          33,
          33,
          34,
          34,
          35,
          35,
          36,
          36,
          37,
          37,
          38,
          38,
          39,
          39,
          40,
          40,
          41,
          41,
          42,
          42,
          43,
          43,
          44,
          44,
          45,
          45,
          46,
          46,
          47,
          47,
          48,
          48,
          49,
          49,
          50,
          50,
          51,
          51,
          52,
          52,
          53,
          53,
          54,
          54,
          55,
          55,
          56,
          56,
          57,
          57,
          58,
          58,
          59,
          59
         ],
         "xaxis": "x",
         "y": [
          -50.15874316939892,
          -50.15874316939892,
          -49.71720385292212,
          -49.71720385292212,
          -49.27566453644532,
          -49.27566453644532,
          -48.83412521996852,
          -48.83412521996852,
          -48.39258590349172,
          -48.39258590349172,
          -47.95104658701493,
          -47.95104658701493,
          -47.50950727053813,
          -47.50950727053813,
          -47.06796795406133,
          -47.06796795406133,
          -46.62642863758453,
          -46.62642863758453,
          -46.18488932110773,
          -46.18488932110773,
          -45.74335000463093,
          -45.74335000463093,
          -45.301810688154134,
          -45.301810688154134,
          -44.860271371677335,
          -44.860271371677335,
          -44.418732055200536,
          -44.418732055200536,
          -43.97719273872374,
          -43.97719273872374,
          -43.53565342224694,
          -43.53565342224694,
          -43.094114105770146,
          -43.094114105770146,
          -42.65257478929335,
          -42.65257478929335,
          -42.21103547281655,
          -42.21103547281655,
          -41.76949615633975,
          -41.76949615633975,
          -41.32795683986295,
          -41.32795683986295,
          -40.88641752338615,
          -40.88641752338615,
          -40.44487820690935,
          -40.44487820690935,
          -40.00333889043255,
          -40.00333889043255,
          -39.56179957395575,
          -39.56179957395575,
          -39.120260257478954,
          -39.120260257478954,
          -38.678720941002155,
          -38.678720941002155,
          -38.23718162452536,
          -38.23718162452536,
          -37.795642308048556,
          -37.795642308048556,
          -37.354102991571764,
          -37.354102991571764,
          -36.912563675094965,
          -36.912563675094965,
          -36.471024358618166,
          -36.471024358618166,
          -36.02948504214137,
          -36.02948504214137,
          -35.58794572566457,
          -35.58794572566457,
          -35.14640640918777,
          -35.14640640918777,
          -34.70486709271097,
          -34.70486709271097,
          -34.26332777623418,
          -34.26332777623418,
          -33.82178845975737,
          -33.82178845975737,
          -33.38024914328058,
          -33.38024914328058,
          -32.93870982680377,
          -32.93870982680377,
          -32.49717051032698,
          -32.49717051032698,
          -32.05563119385018,
          -32.05563119385018,
          -31.614091877373383,
          -31.614091877373383,
          -31.172552560896584,
          -31.172552560896584,
          -30.731013244419785,
          -30.731013244419785,
          -30.289473927942986,
          -30.289473927942986,
          -29.84793461146619,
          -29.84793461146619,
          -29.40639529498939,
          -29.40639529498939,
          -28.964855978512592,
          -28.964855978512592,
          -28.523316662035793,
          -28.523316662035793,
          -28.081777345558994,
          -28.081777345558994,
          -27.640238029082198,
          -27.640238029082198,
          -27.1986987126054,
          -27.1986987126054,
          -26.7571593961286,
          -26.7571593961286,
          -26.3156200796518,
          -26.3156200796518,
          -25.874080763175,
          -25.874080763175,
          -25.432541446698202,
          -25.432541446698202,
          -24.991002130221407,
          -24.991002130221407,
          -24.549462813744608,
          -24.549462813744608,
          -24.10792349726781,
          -24.10792349726781
         ],
         "yaxis": "y"
        }
       ],
       "layout": {
        "legend": {
         "title": {
          "text": "use_mask"
         },
         "tracegroupgap": 0
        },
        "margin": {
         "t": 60
        },
        "template": {
         "data": {
          "bar": [
           {
            "error_x": {
             "color": "#2a3f5f"
            },
            "error_y": {
             "color": "#2a3f5f"
            },
            "marker": {
             "line": {
              "color": "#E5ECF6",
              "width": 0.5
             },
             "pattern": {
              "fillmode": "overlay",
              "size": 10,
              "solidity": 0.2
             }
            },
            "type": "bar"
           }
          ],
          "barpolar": [
           {
            "marker": {
             "line": {
              "color": "#E5ECF6",
              "width": 0.5
             },
             "pattern": {
              "fillmode": "overlay",
              "size": 10,
              "solidity": 0.2
             }
            },
            "type": "barpolar"
           }
          ],
          "carpet": [
           {
            "aaxis": {
             "endlinecolor": "#2a3f5f",
             "gridcolor": "white",
             "linecolor": "white",
             "minorgridcolor": "white",
             "startlinecolor": "#2a3f5f"
            },
            "baxis": {
             "endlinecolor": "#2a3f5f",
             "gridcolor": "white",
             "linecolor": "white",
             "minorgridcolor": "white",
             "startlinecolor": "#2a3f5f"
            },
            "type": "carpet"
           }
          ],
          "choropleth": [
           {
            "colorbar": {
             "outlinewidth": 0,
             "ticks": ""
            },
            "type": "choropleth"
           }
          ],
          "contour": [
           {
            "colorbar": {
             "outlinewidth": 0,
             "ticks": ""
            },
            "colorscale": [
             [
              0,
              "#0d0887"
             ],
             [
              0.1111111111111111,
              "#46039f"
             ],
             [
              0.2222222222222222,
              "#7201a8"
             ],
             [
              0.3333333333333333,
              "#9c179e"
             ],
             [
              0.4444444444444444,
              "#bd3786"
             ],
             [
              0.5555555555555556,
              "#d8576b"
             ],
             [
              0.6666666666666666,
              "#ed7953"
             ],
             [
              0.7777777777777778,
              "#fb9f3a"
             ],
             [
              0.8888888888888888,
              "#fdca26"
             ],
             [
              1,
              "#f0f921"
             ]
            ],
            "type": "contour"
           }
          ],
          "contourcarpet": [
           {
            "colorbar": {
             "outlinewidth": 0,
             "ticks": ""
            },
            "type": "contourcarpet"
           }
          ],
          "heatmap": [
           {
            "colorbar": {
             "outlinewidth": 0,
             "ticks": ""
            },
            "colorscale": [
             [
              0,
              "#0d0887"
             ],
             [
              0.1111111111111111,
              "#46039f"
             ],
             [
              0.2222222222222222,
              "#7201a8"
             ],
             [
              0.3333333333333333,
              "#9c179e"
             ],
             [
              0.4444444444444444,
              "#bd3786"
             ],
             [
              0.5555555555555556,
              "#d8576b"
             ],
             [
              0.6666666666666666,
              "#ed7953"
             ],
             [
              0.7777777777777778,
              "#fb9f3a"
             ],
             [
              0.8888888888888888,
              "#fdca26"
             ],
             [
              1,
              "#f0f921"
             ]
            ],
            "type": "heatmap"
           }
          ],
          "heatmapgl": [
           {
            "colorbar": {
             "outlinewidth": 0,
             "ticks": ""
            },
            "colorscale": [
             [
              0,
              "#0d0887"
             ],
             [
              0.1111111111111111,
              "#46039f"
             ],
             [
              0.2222222222222222,
              "#7201a8"
             ],
             [
              0.3333333333333333,
              "#9c179e"
             ],
             [
              0.4444444444444444,
              "#bd3786"
             ],
             [
              0.5555555555555556,
              "#d8576b"
             ],
             [
              0.6666666666666666,
              "#ed7953"
             ],
             [
              0.7777777777777778,
              "#fb9f3a"
             ],
             [
              0.8888888888888888,
              "#fdca26"
             ],
             [
              1,
              "#f0f921"
             ]
            ],
            "type": "heatmapgl"
           }
          ],
          "histogram": [
           {
            "marker": {
             "pattern": {
              "fillmode": "overlay",
              "size": 10,
              "solidity": 0.2
             }
            },
            "type": "histogram"
           }
          ],
          "histogram2d": [
           {
            "colorbar": {
             "outlinewidth": 0,
             "ticks": ""
            },
            "colorscale": [
             [
              0,
              "#0d0887"
             ],
             [
              0.1111111111111111,
              "#46039f"
             ],
             [
              0.2222222222222222,
              "#7201a8"
             ],
             [
              0.3333333333333333,
              "#9c179e"
             ],
             [
              0.4444444444444444,
              "#bd3786"
             ],
             [
              0.5555555555555556,
              "#d8576b"
             ],
             [
              0.6666666666666666,
              "#ed7953"
             ],
             [
              0.7777777777777778,
              "#fb9f3a"
             ],
             [
              0.8888888888888888,
              "#fdca26"
             ],
             [
              1,
              "#f0f921"
             ]
            ],
            "type": "histogram2d"
           }
          ],
          "histogram2dcontour": [
           {
            "colorbar": {
             "outlinewidth": 0,
             "ticks": ""
            },
            "colorscale": [
             [
              0,
              "#0d0887"
             ],
             [
              0.1111111111111111,
              "#46039f"
             ],
             [
              0.2222222222222222,
              "#7201a8"
             ],
             [
              0.3333333333333333,
              "#9c179e"
             ],
             [
              0.4444444444444444,
              "#bd3786"
             ],
             [
              0.5555555555555556,
              "#d8576b"
             ],
             [
              0.6666666666666666,
              "#ed7953"
             ],
             [
              0.7777777777777778,
              "#fb9f3a"
             ],
             [
              0.8888888888888888,
              "#fdca26"
             ],
             [
              1,
              "#f0f921"
             ]
            ],
            "type": "histogram2dcontour"
           }
          ],
          "mesh3d": [
           {
            "colorbar": {
             "outlinewidth": 0,
             "ticks": ""
            },
            "type": "mesh3d"
           }
          ],
          "parcoords": [
           {
            "line": {
             "colorbar": {
              "outlinewidth": 0,
              "ticks": ""
             }
            },
            "type": "parcoords"
           }
          ],
          "pie": [
           {
            "automargin": true,
            "type": "pie"
           }
          ],
          "scatter": [
           {
            "fillpattern": {
             "fillmode": "overlay",
             "size": 10,
             "solidity": 0.2
            },
            "type": "scatter"
           }
          ],
          "scatter3d": [
           {
            "line": {
             "colorbar": {
              "outlinewidth": 0,
              "ticks": ""
             }
            },
            "marker": {
             "colorbar": {
              "outlinewidth": 0,
              "ticks": ""
             }
            },
            "type": "scatter3d"
           }
          ],
          "scattercarpet": [
           {
            "marker": {
             "colorbar": {
              "outlinewidth": 0,
              "ticks": ""
             }
            },
            "type": "scattercarpet"
           }
          ],
          "scattergeo": [
           {
            "marker": {
             "colorbar": {
              "outlinewidth": 0,
              "ticks": ""
             }
            },
            "type": "scattergeo"
           }
          ],
          "scattergl": [
           {
            "marker": {
             "colorbar": {
              "outlinewidth": 0,
              "ticks": ""
             }
            },
            "type": "scattergl"
           }
          ],
          "scattermapbox": [
           {
            "marker": {
             "colorbar": {
              "outlinewidth": 0,
              "ticks": ""
             }
            },
            "type": "scattermapbox"
           }
          ],
          "scatterpolar": [
           {
            "marker": {
             "colorbar": {
              "outlinewidth": 0,
              "ticks": ""
             }
            },
            "type": "scatterpolar"
           }
          ],
          "scatterpolargl": [
           {
            "marker": {
             "colorbar": {
              "outlinewidth": 0,
              "ticks": ""
             }
            },
            "type": "scatterpolargl"
           }
          ],
          "scatterternary": [
           {
            "marker": {
             "colorbar": {
              "outlinewidth": 0,
              "ticks": ""
             }
            },
            "type": "scatterternary"
           }
          ],
          "surface": [
           {
            "colorbar": {
             "outlinewidth": 0,
             "ticks": ""
            },
            "colorscale": [
             [
              0,
              "#0d0887"
             ],
             [
              0.1111111111111111,
              "#46039f"
             ],
             [
              0.2222222222222222,
              "#7201a8"
             ],
             [
              0.3333333333333333,
              "#9c179e"
             ],
             [
              0.4444444444444444,
              "#bd3786"
             ],
             [
              0.5555555555555556,
              "#d8576b"
             ],
             [
              0.6666666666666666,
              "#ed7953"
             ],
             [
              0.7777777777777778,
              "#fb9f3a"
             ],
             [
              0.8888888888888888,
              "#fdca26"
             ],
             [
              1,
              "#f0f921"
             ]
            ],
            "type": "surface"
           }
          ],
          "table": [
           {
            "cells": {
             "fill": {
              "color": "#EBF0F8"
             },
             "line": {
              "color": "white"
             }
            },
            "header": {
             "fill": {
              "color": "#C8D4E3"
             },
             "line": {
              "color": "white"
             }
            },
            "type": "table"
           }
          ]
         },
         "layout": {
          "annotationdefaults": {
           "arrowcolor": "#2a3f5f",
           "arrowhead": 0,
           "arrowwidth": 1
          },
          "autotypenumbers": "strict",
          "coloraxis": {
           "colorbar": {
            "outlinewidth": 0,
            "ticks": ""
           }
          },
          "colorscale": {
           "diverging": [
            [
             0,
             "#8e0152"
            ],
            [
             0.1,
             "#c51b7d"
            ],
            [
             0.2,
             "#de77ae"
            ],
            [
             0.3,
             "#f1b6da"
            ],
            [
             0.4,
             "#fde0ef"
            ],
            [
             0.5,
             "#f7f7f7"
            ],
            [
             0.6,
             "#e6f5d0"
            ],
            [
             0.7,
             "#b8e186"
            ],
            [
             0.8,
             "#7fbc41"
            ],
            [
             0.9,
             "#4d9221"
            ],
            [
             1,
             "#276419"
            ]
           ],
           "sequential": [
            [
             0,
             "#0d0887"
            ],
            [
             0.1111111111111111,
             "#46039f"
            ],
            [
             0.2222222222222222,
             "#7201a8"
            ],
            [
             0.3333333333333333,
             "#9c179e"
            ],
            [
             0.4444444444444444,
             "#bd3786"
            ],
            [
             0.5555555555555556,
             "#d8576b"
            ],
            [
             0.6666666666666666,
             "#ed7953"
            ],
            [
             0.7777777777777778,
             "#fb9f3a"
            ],
            [
             0.8888888888888888,
             "#fdca26"
            ],
            [
             1,
             "#f0f921"
            ]
           ],
           "sequentialminus": [
            [
             0,
             "#0d0887"
            ],
            [
             0.1111111111111111,
             "#46039f"
            ],
            [
             0.2222222222222222,
             "#7201a8"
            ],
            [
             0.3333333333333333,
             "#9c179e"
            ],
            [
             0.4444444444444444,
             "#bd3786"
            ],
            [
             0.5555555555555556,
             "#d8576b"
            ],
            [
             0.6666666666666666,
             "#ed7953"
            ],
            [
             0.7777777777777778,
             "#fb9f3a"
            ],
            [
             0.8888888888888888,
             "#fdca26"
            ],
            [
             1,
             "#f0f921"
            ]
           ]
          },
          "colorway": [
           "#636efa",
           "#EF553B",
           "#00cc96",
           "#ab63fa",
           "#FFA15A",
           "#19d3f3",
           "#FF6692",
           "#B6E880",
           "#FF97FF",
           "#FECB52"
          ],
          "font": {
           "color": "#2a3f5f"
          },
          "geo": {
           "bgcolor": "white",
           "lakecolor": "white",
           "landcolor": "#E5ECF6",
           "showlakes": true,
           "showland": true,
           "subunitcolor": "white"
          },
          "hoverlabel": {
           "align": "left"
          },
          "hovermode": "closest",
          "mapbox": {
           "style": "light"
          },
          "paper_bgcolor": "white",
          "plot_bgcolor": "#E5ECF6",
          "polar": {
           "angularaxis": {
            "gridcolor": "white",
            "linecolor": "white",
            "ticks": ""
           },
           "bgcolor": "#E5ECF6",
           "radialaxis": {
            "gridcolor": "white",
            "linecolor": "white",
            "ticks": ""
           }
          },
          "scene": {
           "xaxis": {
            "backgroundcolor": "#E5ECF6",
            "gridcolor": "white",
            "gridwidth": 2,
            "linecolor": "white",
            "showbackground": true,
            "ticks": "",
            "zerolinecolor": "white"
           },
           "yaxis": {
            "backgroundcolor": "#E5ECF6",
            "gridcolor": "white",
            "gridwidth": 2,
            "linecolor": "white",
            "showbackground": true,
            "ticks": "",
            "zerolinecolor": "white"
           },
           "zaxis": {
            "backgroundcolor": "#E5ECF6",
            "gridcolor": "white",
            "gridwidth": 2,
            "linecolor": "white",
            "showbackground": true,
            "ticks": "",
            "zerolinecolor": "white"
           }
          },
          "shapedefaults": {
           "line": {
            "color": "#2a3f5f"
           }
          },
          "ternary": {
           "aaxis": {
            "gridcolor": "white",
            "linecolor": "white",
            "ticks": ""
           },
           "baxis": {
            "gridcolor": "white",
            "linecolor": "white",
            "ticks": ""
           },
           "bgcolor": "#E5ECF6",
           "caxis": {
            "gridcolor": "white",
            "linecolor": "white",
            "ticks": ""
           }
          },
          "title": {
           "x": 0.05
          },
          "xaxis": {
           "automargin": true,
           "gridcolor": "white",
           "linecolor": "white",
           "ticks": "",
           "title": {
            "standoff": 15
           },
           "zerolinecolor": "white",
           "zerolinewidth": 2
          },
          "yaxis": {
           "automargin": true,
           "gridcolor": "white",
           "linecolor": "white",
           "ticks": "",
           "title": {
            "standoff": 15
           },
           "zerolinecolor": "white",
           "zerolinewidth": 2
          }
         }
        },
        "xaxis": {
         "anchor": "y",
         "domain": [
          0,
          1
         ],
         "title": {
          "text": "n"
         }
        },
        "yaxis": {
         "anchor": "x",
         "domain": [
          0,
          1
         ],
         "title": {
          "text": "value"
         }
        }
       }
      }
     },
     "metadata": {},
     "output_type": "display_data"
    }
   ],
   "source": [
    "px.scatter(df2, \"n\", [\"err2_x\", \"err2_y\"], color=\"use_mask\", trendline=\"ols\")"
   ]
  },
  {
   "cell_type": "code",
   "execution_count": 156,
   "metadata": {},
   "outputs": [],
   "source": [
    "for i in range(40):\n",
    "  notilt_errx = df1[\"err1_x\"].iloc[i]\n",
    "  notilt_erry = df1[\"err1_y\"].iloc[i]  \n",
    "for i in range(40):\n",
    "  withtilt_errx = df2[\"err2_x\"].iloc[i]\n",
    "  withtilt_erry = df2[\"err2_y\"].iloc[i]  \n"
   ]
  },
  {
   "cell_type": "code",
   "execution_count": 166,
   "metadata": {},
   "outputs": [],
   "source": [
    "notilt_errx = []\n",
    "notilt_erry = []\n",
    "hastilt_errx = []\n",
    "hastilt_erry = []\n",
    "for i in range(40):\n",
    "  notilt_errx.append(df1[\"err1_x\"].iloc[i])\n",
    "  notilt_erry.append(df1[\"err1_y\"].iloc[i])\n",
    "  hastilt_errx.append(df2[\"err2_x\"].iloc[i])\n",
    "  hastilt_erry.append(df2[\"err2_y\"].iloc[i] ) \n",
    "  "
   ]
  },
  {
   "cell_type": "code",
   "execution_count": null,
   "metadata": {},
   "outputs": [],
   "source": []
  }
 ],
 "metadata": {
  "kernelspec": {
   "display_name": "Python 3.9.13 ('fibsem')",
   "language": "python",
   "name": "python3"
  },
  "language_info": {
   "codemirror_mode": {
    "name": "ipython",
    "version": 3
   },
   "file_extension": ".py",
   "mimetype": "text/x-python",
   "name": "python",
   "nbconvert_exporter": "python",
   "pygments_lexer": "ipython3",
   "version": "3.9.13"
  },
  "orig_nbformat": 4,
  "vscode": {
   "interpreter": {
    "hash": "65b03cbd5232f89410b9b50b849bcc9b31e2f356061034afe49ef9e2ee6c4a26"
   }
  }
 },
 "nbformat": 4,
 "nbformat_minor": 2
}
