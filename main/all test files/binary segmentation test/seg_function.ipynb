{
 "cells": [
  {
   "cell_type": "code",
   "execution_count": 689,
   "metadata": {},
   "outputs": [],
   "source": [
    "import numpy as np\n",
    "import matplotlib.pyplot as plt\n",
    "import matplotlib.image as mpimg\n",
    "import fibsem\n",
    "from fibsem.imaging import masks\n",
    "from fibsem.imaging import utils\n",
    "from autoscript_sdb_microscope_client.structures import AdornedImage\n",
    "from PIL import Image\n",
    "import logging\n",
    "\n",
    "import matplotlib.pyplot as plt\n",
    "from scipy import ndimage as ndi\n",
    "\n",
    "from skimage.segmentation import watershed\n",
    "from skimage.feature import peak_local_max\n",
    "\n",
    "from skimage import data\n",
    "from skimage import filters\n",
    "from skimage.color import rgb2gray\n",
    "\n",
    "import imageio\n",
    "import cv2\n",
    "import glob\n",
    "import itertools\n",
    "from itertools import tee\n",
    "from itertools import islice"
   ]
  },
  {
   "cell_type": "code",
   "execution_count": 690,
   "metadata": {},
   "outputs": [],
   "source": [
    "# img1 = mpimg.imread(\"../pics/1-fl-ZOOM_2.jpg\")\n",
    "# img2 = mpimg.imread(\"../pics/1-fl-ZOOM_2.jpg\")\n",
    "# img1 = rgb2gray(img1)\n",
    "# img2 = rgb2gray(img2)\n",
    "\n",
    "# # img1 = np.array(Image.fromarray(img1).resize(img2.shape))\n",
    "# # img1 = np.array(img1, dtype=np.float32)\n",
    "# # img2 = np.array(img2, dtype=np.float32)\n",
    "\n",
    "# # print(img1.dtype, img2.dtype)\n",
    "\n",
    "# # img1 = AdornedImage(img1, None)\n",
    "# # img2 = AdornedImage(img2, None)\n",
    "\n",
    "# pixelsize_img1 = img1.data.shape\n",
    "# pixelsize_img2 = img2.data.shape\n",
    "\n",
    "# img1_mask = masks.create_bandpass_mask(pixelsize_img1, 100, 4, 3)\n",
    "# img2_mask = masks.create_bandpass_mask(pixelsize_img2, 100, 4, 3)"
   ]
  },
  {
   "cell_type": "code",
   "execution_count": 785,
   "metadata": {},
   "outputs": [],
   "source": [
    "def xcorr(img1: np.ndarray, img2: np.ndarray, use_mask: bool = True, use_threshold: bool = True ) -> np.ndarray:\n",
    "\n",
    "    if img1.data.shape != img2.data.shape:\n",
    "        err = f\"Image 1 {img1.data.shape} and Image 2 {img2.data.shape} need to have the same shape\"\n",
    "        logging.error(err)\n",
    "        raise ValueError(err)\n",
    "\n",
    "\n",
    "    if use_mask:\n",
    "        # Create Fourier Transform WITH Bandpass Filter\n",
    "        pixelsize_img1 = img1.data.shape\n",
    "        pixelsize_img2 = img2.data.shape\n",
    "        img1_mask = masks.create_bandpass_mask(pixelsize_img1, 100, 4, 3)\n",
    "        img2_mask = masks.create_bandpass_mask(pixelsize_img2, 100, 4, 3)\n",
    "        img1fft = np.fft.ifftshift(img1_mask * np.fft.fftshift(np.fft.fft2(img1.data)))\n",
    "        img2fft = np.fft.ifftshift(img2_mask * np.fft.fftshift(np.fft.fft2(img2.data)))\n",
    "        assert img1_mask is not None, \"Mask1 can not be None when using a Mask\"\n",
    "        assert img2_mask is not None, \"Mask2 can not be None when using a Mask\"\n",
    "    \n",
    "       \n",
    "       \n",
    "    else:\n",
    "        # Create Fourier Transform\n",
    "        img1fft = np.fft.ifftshift(np.fft.fftshift(np.fft.fft2(img1.data)))\n",
    "        img2fft = np.fft.ifftshift(np.fft.fftshift(np.fft.fft2(img2.data)))\n",
    "\n",
    "    # Do some shady normalization(?)\n",
    "    n_pixels1 = img1.data.shape[0] * img1.data.shape[1]\n",
    "    img1fft[0, 0] = 0\n",
    "    tmp = img1fft * np. conj(img1fft)\n",
    "    img1fft = n_pixels1 * img1fft / np.sqrt(tmp.sum())\n",
    "    \n",
    "\n",
    "    n_pixels2 = img2.data.shape[0] * img2.data.shape[1]\n",
    "    img2fft[0, 0] = 0\n",
    "    tmp = img2fft * np. conj(img2fft)\n",
    "    img2fft = n_pixels2 * img2fft / np.sqrt(tmp.sum())\n",
    "\n",
    "\n",
    "    if use_threshold:\n",
    "        #Create threshold (Otsu's method) in Real Space\n",
    "        real1 = np.fft.fftshift(np.fft.ifftshift(np.fft.ifft2(img1fft)))\n",
    "        real2 = np.fft.fftshift(np.fft.ifftshift(np.fft.ifft2(img2fft)))\n",
    "        otsu1 = filters.threshold_otsu(np.abs(real1))\n",
    "        otsu2 = filters.threshold_otsu(np.abs(real2))\n",
    "\n",
    "         #Create segmented binary Img\n",
    "        binary1 = (real1 > otsu1)*1\n",
    "        # plt.title(\"Threshold: >\"+str(otsu1))\n",
    "        # plt.imshow(binary1, cmap='gray')\n",
    "        # plt.show()\n",
    "        binary2 = (real2 > otsu2)*1\n",
    "        # plt.title(\"Threshold: >\"+str(otsu2))\n",
    "        # plt.imshow(binary2, cmap='gray')\n",
    "        # plt.show()\n",
    "\n",
    "        #Back to Fourier Space for cross-correlation\n",
    "        fft1 = np.fft.ifftshift(np.fft.fftshift(np.fft.fft2(binary1)))\n",
    "        fft2 = np.fft.ifftshift(np.fft.fftshift(np.fft.fft2(binary2)))\n",
    "\n",
    "        # Cross-correlate the two images\n",
    "        corr = np.real(np.fft.fftshift(np.fft.ifft2(fft1 * np.conj(fft2))))\n",
    "        # plt.imshow(corr)\n",
    "        # plt.show()\n",
    "\n",
    "        #Cross-correlation center and shift from center\n",
    "        maxX, maxY = np.unravel_index(np.argmax(corr), corr.shape)\n",
    "        cen = np.asarray(corr.shape) / 2\n",
    "        err = np.array(cen - [maxX, maxY], int)\n",
    "        valMax = np.amax(corr)\n",
    "        #print('Center:', cen, 'Error:', err)\n",
    "        return valMax\n",
    "        \n",
    "\n",
    "    else:\n",
    "        # Cross-correlate the two images\n",
    "        corr = np.real(np.fft.fftshift(np.fft.ifft2(img1fft * np.conj(img2fft))))\n",
    "        # plt.imshow(corr)\n",
    "        # plt.show()\n",
    "\n",
    "        #Cross-correlation center and shift from center\n",
    "        maxX, maxY = np.unravel_index(np.argmax(corr), corr.shape)\n",
    "        cen = np.asarray(corr.shape) / 2\n",
    "        err = np.array(cen - [maxX, maxY], int)\n",
    "        valMax = np.amax(corr)\n",
    "        return valMax\n",
    "        #print('Center:', cen, 'Error:', err)\n",
    "    "
   ]
  },
  {
   "cell_type": "code",
   "execution_count": 786,
   "metadata": {},
   "outputs": [],
   "source": [
    "# files = glob.glob(\"../pics/*fl*.jpg\")\n",
    "# for file in files:\n",
    "#     images = mpimg.imread(file)\n",
    "#     # Check if Array dimension is 2 (grayscale)\n",
    "#     if images.ndim == 2:\n",
    "#         # Add \"empty third\" dimension (1 by default)\n",
    "#         images = np.expand_dims(images, axis=2)\n",
    "        \n",
    "#     # print(images.shape)"
   ]
  },
  {
   "cell_type": "code",
   "execution_count": 787,
   "metadata": {},
   "outputs": [],
   "source": [
    "data = []\n",
    "files = glob.glob(\"../xcorrtest/*tif\")\n",
    "for file in files:\n",
    "    img = mpimg.imread(file)\n",
    "    image = AdornedImage(img, None)\n",
    "    data.append(image)\n",
    "arr = np.array(data)\n"
   ]
  },
  {
   "cell_type": "code",
   "execution_count": 793,
   "metadata": {},
   "outputs": [
    {
     "name": "stdout",
     "output_type": "stream",
     "text": [
      "19839.0\n",
      "9249.0\n",
      "23265.0\n",
      "16726.0\n"
     ]
    }
   ],
   "source": [
    "arr1 = arr[0: arr.size: 2]\n",
    "arr2 = arr[1: arr.size: 2]\n",
    "\n",
    "for i in range(4):\n",
    "    \n",
    "    valMax = xcorr(arr1[i], arr2[i], True, True)\n",
    "    print(valMax)\n",
    "    # valMax2 = xcorr(arr1[i], arr2[i], False, True)\n",
    "    # valMax3 = xcorr(arr1[i], arr2[i], True, False)\n",
    "    # valMax4 = xcorr(arr1[i], arr2[i], False, False)\n"
   ]
  },
  {
   "cell_type": "code",
   "execution_count": 792,
   "metadata": {},
   "outputs": [
    {
     "data": {
      "text/plain": [
       "16726.0"
      ]
     },
     "execution_count": 792,
     "metadata": {},
     "output_type": "execute_result"
    }
   ],
   "source": []
  },
  {
   "cell_type": "code",
   "execution_count": null,
   "metadata": {},
   "outputs": [],
   "source": [
    "img4 = AdornedImage(np.roll(img4, shift=(400, 400), axis=(0, 1)))"
   ]
  },
  {
   "cell_type": "code",
   "execution_count": null,
   "metadata": {},
   "outputs": [],
   "source": []
  }
 ],
 "metadata": {
  "kernelspec": {
   "display_name": "Python 3.9.13 ('fibsem')",
   "language": "python",
   "name": "python3"
  },
  "language_info": {
   "codemirror_mode": {
    "name": "ipython",
    "version": 3
   },
   "file_extension": ".py",
   "mimetype": "text/x-python",
   "name": "python",
   "nbconvert_exporter": "python",
   "pygments_lexer": "ipython3",
   "version": "3.9.13"
  },
  "orig_nbformat": 4,
  "vscode": {
   "interpreter": {
    "hash": "65b03cbd5232f89410b9b50b849bcc9b31e2f356061034afe49ef9e2ee6c4a26"
   }
  }
 },
 "nbformat": 4,
 "nbformat_minor": 2
}
